{
 "cells": [
  {
   "cell_type": "markdown",
   "metadata": {
    "colab_type": "text",
    "collapsed": false,
    "id": "1bmdv457SCmc"
   },
   "source": [
    "# SSS5. Review and catch up."
   ]
  },
  {
   "cell_type": "markdown",
   "metadata": {
    "collapsed": false
   },
   "source": [
    "<div class=\"alert alert-block alert-success\">\n",
    "    <div class=\"col-xs-6 col-sm-3 col-md-2 col-lg-1\"> <img class=\"img-responsive responsive-img\" src=\"https://www.shareicon.net/data/512x512/2016/08/18/813877_snake_512x512.png\" alt=\"...\"></div>\n",
    "    \n",
    "<br> <strong>Congratulations! You have just finished Logical Thinking Unit. Isn't it wonderful!?</strong>\n",
    "</div>"
   ]
  },
  {
   "cell_type": "markdown",
   "metadata": {
    "collapsed": false
   },
   "source": [
    "\n",
    "    \n",
    "![logicend](https://media.giphy.com/media/5gQUl0vIMqNAk/giphy.gif)"
   ]
  },
  {
   "cell_type": "markdown",
   "metadata": {
    "collapsed": false
   },
   "source": [
    "This week you started an exciting journey into Statistics and Probability World which will continue on to the second semester too!\n",
    "In this and upcoming sessions we are equiping you with all the necessary tools and packages. Also, today you will learn about one of them, namely NumPy library, and you will have a chance to revise all the previously learned concepts by working on previous exercises that you skipped or didn't have time for. "
   ]
  },
  {
   "cell_type": "markdown",
   "metadata": {
    "collapsed": false
   },
   "source": [
    "\n",
    "<div class=\"panel panel-success\">\n",
    "  <div class=\"panel-heading\">\n",
    "    <h3 class=\"panel-title\">CONTENTS</h3>\n",
    "  </div>\n",
    "  <div class=\"panel-body\">\n",
    "\n",
    "* [A. Python Lab](#lab)\n",
    "    * [1. THE NUMPY LIBRARY](#numpy)\n",
    "* [B. Exercises](#ex)\n",
    "    * [1. Exercise](#ex1)\n",
    "    * [2. Exercise](#ex2)\n",
    "    * [3. Exercise](#ex3)\n",
    "    * [4. REVISION EXERCISES](#revex)\n",
    "    * [5. OPTIONAL EXERCISES](#optex)\n",
    "\n",
    "  </div>\n",
    "</div>\n",
    "\n"
   ]
  },
  {
   "cell_type": "markdown",
   "metadata": {
    "collapsed": false
   },
   "source": [
    "## Warm-up\n",
    "You may remember from the Session 2 that **libraries** are collection of useful prewritten functions that anyone can use for own purposes to avoid rewriting the same code over and over again. \n",
    "<br>\n",
    "In the next cell, recall how to import *math library* and play a bit with its methods it by computing the following math statement using _only_ math library functions and methods.\n",
    "1. print out 10 digits of pi \n",
    "2. find a square root of 2023\n",
    "3. print positive infinity sign\n",
    "4. compute 5 raised to the power 7\n",
    "<br>\n",
    "<br>\n",
    "_Hint: use Google for help._  \n",
    "![powergoogle](https://pics.me.me/first-step-in-learning-programming-learn-basic-syntax-data-types-42059854.png)"
   ]
  },
  {
   "cell_type": "code",
   "execution_count": 0,
   "metadata": {
    "collapsed": false
   },
   "outputs": [
   ],
   "source": [
    "import #.... your code is here"
   ]
  },
  {
   "cell_type": "markdown",
   "metadata": {
    "collapsed": false
   },
   "source": [
    "<div class=\"alert alert-block alert-success\">\n",
    "    <div class=\"col-xs-6 col-sm-3 col-md-2 col-lg-1\"> <img class=\"img-responsive responsive-img\" src=\"https://www.shareicon.net/data/512x512/2016/08/18/813877_snake_512x512.png\" alt=\"...\"></div>\n",
    "    <strong>NOTE:</strong>\n",
    "<br> Wonderful job! Python has tons of various libraries. And, to be honest, for me (for a snake) they all seem boring. For me, the funniest library of all times is <strong>TURTLE LIBRARY.</strong> Yes, turtle!🐢 It can create magical images with the help of a small cute animal. For instance, study and run the following code.\n",
    "</div>"
   ]
  },
  {
   "cell_type": "code",
   "execution_count": 4,
   "metadata": {
    "collapsed": false
   },
   "outputs": [
    {
     "ename": "TclError",
     "evalue": "couldn't connect to display \":0\"",
     "output_type": "error",
     "traceback": [
      "\u001b[0;31m---------------------------------------------------------------------------\u001b[0m",
      "\u001b[0;31mTclError\u001b[0m                                  Traceback (most recent call last)",
      "\u001b[0;32m<ipython-input-4-3cd2d790b70d>\u001b[0m in \u001b[0;36m<module>\u001b[0;34m()\u001b[0m\n\u001b[1;32m      1\u001b[0m \u001b[0;32mimport\u001b[0m \u001b[0mturtle\u001b[0m\u001b[0;34m\u001b[0m\u001b[0;34m\u001b[0m\u001b[0m\n\u001b[1;32m      2\u001b[0m \u001b[0;34m\u001b[0m\u001b[0m\n\u001b[0;32m----> 3\u001b[0;31m \u001b[0mwn\u001b[0m\u001b[0;34m=\u001b[0m\u001b[0mturtle\u001b[0m\u001b[0;34m.\u001b[0m\u001b[0mScreen\u001b[0m\u001b[0;34m(\u001b[0m\u001b[0;34m)\u001b[0m\u001b[0;34m\u001b[0m\u001b[0;34m\u001b[0m\u001b[0m\n\u001b[0m\u001b[1;32m      4\u001b[0m \u001b[0mwn\u001b[0m\u001b[0;34m.\u001b[0m\u001b[0mbgcolor\u001b[0m\u001b[0;34m(\u001b[0m\u001b[0;34m\"green\"\u001b[0m\u001b[0;34m)\u001b[0m\u001b[0;34m\u001b[0m\u001b[0;34m\u001b[0m\u001b[0m\n\u001b[1;32m      5\u001b[0m \u001b[0;34m\u001b[0m\u001b[0m\n",
      "\u001b[0;32m/usr/lib/python3.6/turtle.py\u001b[0m in \u001b[0;36mScreen\u001b[0;34m()\u001b[0m\n\u001b[1;32m   3660\u001b[0m     else return the existing one.\"\"\"\n\u001b[1;32m   3661\u001b[0m     \u001b[0;32mif\u001b[0m \u001b[0mTurtle\u001b[0m\u001b[0;34m.\u001b[0m\u001b[0m_screen\u001b[0m \u001b[0;32mis\u001b[0m \u001b[0;32mNone\u001b[0m\u001b[0;34m:\u001b[0m\u001b[0;34m\u001b[0m\u001b[0;34m\u001b[0m\u001b[0m\n\u001b[0;32m-> 3662\u001b[0;31m         \u001b[0mTurtle\u001b[0m\u001b[0;34m.\u001b[0m\u001b[0m_screen\u001b[0m \u001b[0;34m=\u001b[0m \u001b[0m_Screen\u001b[0m\u001b[0;34m(\u001b[0m\u001b[0;34m)\u001b[0m\u001b[0;34m\u001b[0m\u001b[0;34m\u001b[0m\u001b[0m\n\u001b[0m\u001b[1;32m   3663\u001b[0m     \u001b[0;32mreturn\u001b[0m \u001b[0mTurtle\u001b[0m\u001b[0;34m.\u001b[0m\u001b[0m_screen\u001b[0m\u001b[0;34m\u001b[0m\u001b[0;34m\u001b[0m\u001b[0m\n\u001b[1;32m   3664\u001b[0m \u001b[0;34m\u001b[0m\u001b[0m\n",
      "\u001b[0;32m/usr/lib/python3.6/turtle.py\u001b[0m in \u001b[0;36m__init__\u001b[0;34m(self)\u001b[0m\n\u001b[1;32m   3676\u001b[0m         \u001b[0;31m# preserved (perhaps by passing it as an optional parameter)\u001b[0m\u001b[0;34m\u001b[0m\u001b[0;34m\u001b[0m\u001b[0;34m\u001b[0m\u001b[0m\n\u001b[1;32m   3677\u001b[0m         \u001b[0;32mif\u001b[0m \u001b[0m_Screen\u001b[0m\u001b[0;34m.\u001b[0m\u001b[0m_root\u001b[0m \u001b[0;32mis\u001b[0m \u001b[0;32mNone\u001b[0m\u001b[0;34m:\u001b[0m\u001b[0;34m\u001b[0m\u001b[0;34m\u001b[0m\u001b[0m\n\u001b[0;32m-> 3678\u001b[0;31m             \u001b[0m_Screen\u001b[0m\u001b[0;34m.\u001b[0m\u001b[0m_root\u001b[0m \u001b[0;34m=\u001b[0m \u001b[0mself\u001b[0m\u001b[0;34m.\u001b[0m\u001b[0m_root\u001b[0m \u001b[0;34m=\u001b[0m \u001b[0m_Root\u001b[0m\u001b[0;34m(\u001b[0m\u001b[0;34m)\u001b[0m\u001b[0;34m\u001b[0m\u001b[0;34m\u001b[0m\u001b[0m\n\u001b[0m\u001b[1;32m   3679\u001b[0m             \u001b[0mself\u001b[0m\u001b[0;34m.\u001b[0m\u001b[0m_root\u001b[0m\u001b[0;34m.\u001b[0m\u001b[0mtitle\u001b[0m\u001b[0;34m(\u001b[0m\u001b[0m_Screen\u001b[0m\u001b[0;34m.\u001b[0m\u001b[0m_title\u001b[0m\u001b[0;34m)\u001b[0m\u001b[0;34m\u001b[0m\u001b[0;34m\u001b[0m\u001b[0m\n\u001b[1;32m   3680\u001b[0m             \u001b[0mself\u001b[0m\u001b[0;34m.\u001b[0m\u001b[0m_root\u001b[0m\u001b[0;34m.\u001b[0m\u001b[0mondestroy\u001b[0m\u001b[0;34m(\u001b[0m\u001b[0mself\u001b[0m\u001b[0;34m.\u001b[0m\u001b[0m_destroy\u001b[0m\u001b[0;34m)\u001b[0m\u001b[0;34m\u001b[0m\u001b[0;34m\u001b[0m\u001b[0m\n",
      "\u001b[0;32m/usr/lib/python3.6/turtle.py\u001b[0m in \u001b[0;36m__init__\u001b[0;34m(self)\u001b[0m\n\u001b[1;32m    432\u001b[0m     \u001b[0;34m\"\"\"Root class for Screen based on Tkinter.\"\"\"\u001b[0m\u001b[0;34m\u001b[0m\u001b[0;34m\u001b[0m\u001b[0m\n\u001b[1;32m    433\u001b[0m     \u001b[0;32mdef\u001b[0m \u001b[0m__init__\u001b[0m\u001b[0;34m(\u001b[0m\u001b[0mself\u001b[0m\u001b[0;34m)\u001b[0m\u001b[0;34m:\u001b[0m\u001b[0;34m\u001b[0m\u001b[0;34m\u001b[0m\u001b[0m\n\u001b[0;32m--> 434\u001b[0;31m         \u001b[0mTK\u001b[0m\u001b[0;34m.\u001b[0m\u001b[0mTk\u001b[0m\u001b[0;34m.\u001b[0m\u001b[0m__init__\u001b[0m\u001b[0;34m(\u001b[0m\u001b[0mself\u001b[0m\u001b[0;34m)\u001b[0m\u001b[0;34m\u001b[0m\u001b[0;34m\u001b[0m\u001b[0m\n\u001b[0m\u001b[1;32m    435\u001b[0m \u001b[0;34m\u001b[0m\u001b[0m\n\u001b[1;32m    436\u001b[0m     \u001b[0;32mdef\u001b[0m \u001b[0msetupcanvas\u001b[0m\u001b[0;34m(\u001b[0m\u001b[0mself\u001b[0m\u001b[0;34m,\u001b[0m \u001b[0mwidth\u001b[0m\u001b[0;34m,\u001b[0m \u001b[0mheight\u001b[0m\u001b[0;34m,\u001b[0m \u001b[0mcwidth\u001b[0m\u001b[0;34m,\u001b[0m \u001b[0mcheight\u001b[0m\u001b[0;34m)\u001b[0m\u001b[0;34m:\u001b[0m\u001b[0;34m\u001b[0m\u001b[0;34m\u001b[0m\u001b[0m\n",
      "\u001b[0;32m/usr/lib/python3.6/tkinter/__init__.py\u001b[0m in \u001b[0;36m__init__\u001b[0;34m(self, screenName, baseName, className, useTk, sync, use)\u001b[0m\n\u001b[1;32m   2021\u001b[0m                 \u001b[0mbaseName\u001b[0m \u001b[0;34m=\u001b[0m \u001b[0mbaseName\u001b[0m \u001b[0;34m+\u001b[0m \u001b[0mext\u001b[0m\u001b[0;34m\u001b[0m\u001b[0;34m\u001b[0m\u001b[0m\n\u001b[1;32m   2022\u001b[0m         \u001b[0minteractive\u001b[0m \u001b[0;34m=\u001b[0m \u001b[0;36m0\u001b[0m\u001b[0;34m\u001b[0m\u001b[0;34m\u001b[0m\u001b[0m\n\u001b[0;32m-> 2023\u001b[0;31m         \u001b[0mself\u001b[0m\u001b[0;34m.\u001b[0m\u001b[0mtk\u001b[0m \u001b[0;34m=\u001b[0m \u001b[0m_tkinter\u001b[0m\u001b[0;34m.\u001b[0m\u001b[0mcreate\u001b[0m\u001b[0;34m(\u001b[0m\u001b[0mscreenName\u001b[0m\u001b[0;34m,\u001b[0m \u001b[0mbaseName\u001b[0m\u001b[0;34m,\u001b[0m \u001b[0mclassName\u001b[0m\u001b[0;34m,\u001b[0m \u001b[0minteractive\u001b[0m\u001b[0;34m,\u001b[0m \u001b[0mwantobjects\u001b[0m\u001b[0;34m,\u001b[0m \u001b[0museTk\u001b[0m\u001b[0;34m,\u001b[0m \u001b[0msync\u001b[0m\u001b[0;34m,\u001b[0m \u001b[0muse\u001b[0m\u001b[0;34m)\u001b[0m\u001b[0;34m\u001b[0m\u001b[0;34m\u001b[0m\u001b[0m\n\u001b[0m\u001b[1;32m   2024\u001b[0m         \u001b[0;32mif\u001b[0m \u001b[0museTk\u001b[0m\u001b[0;34m:\u001b[0m\u001b[0;34m\u001b[0m\u001b[0;34m\u001b[0m\u001b[0m\n\u001b[1;32m   2025\u001b[0m             \u001b[0mself\u001b[0m\u001b[0;34m.\u001b[0m\u001b[0m_loadtk\u001b[0m\u001b[0;34m(\u001b[0m\u001b[0;34m)\u001b[0m\u001b[0;34m\u001b[0m\u001b[0;34m\u001b[0m\u001b[0m\n",
      "\u001b[0;31mTclError\u001b[0m: couldn't connect to display \":0\""
     ]
    }
   ],
   "source": [
    "import turtle \n",
    "\n",
    "wn=turtle.Screen()\n",
    "wn.bgcolor(\"green\")\n",
    "\n",
    "Bob = turtle.Turtle()\n",
    "\n",
    "for i in range(20):\n",
    "    Bob.forward(i * 10)\n",
    "    Bob.right(144)"
   ]
  },
  {
   "cell_type": "markdown",
   "metadata": {
    "collapsed": false
   },
   "source": [
    "Now, it is your turn! Try using tutrle library to draw a simple square. "
   ]
  },
  {
   "cell_type": "markdown",
   "metadata": {
    "collapsed": false
   },
   "source": [
    "<div class=\"alert alert-block alert-success\">\n",
    "<div class=\"col-md-2 col-lg-1 col-xs-6 col-sm-3\"> <img class=\"img-responsive responsive-img\" src=\"https://www.shareicon.net/data/512x512/2016/08/18/813877_snake_512x512.png\" alt=\"...\"></div>\n",
    "    <strong>HINT: \n",
    "    </strong> \n",
    "    <br>The turtle draws or goes in the direction that <b>you have set</b>. For example, for 20 times, it went forward i*20 steps and turned right for 144 degrees. You can first create simple steps for drawing the square.</br>\n",
    "</div>\n"
   ]
  },
  {
   "cell_type": "code",
   "execution_count": 0,
   "metadata": {
    "collapsed": false
   },
   "outputs": [
   ],
   "source": [
    "#your code is here"
   ]
  },
  {
   "cell_type": "markdown",
   "metadata": {
    "collapsed": false
   },
   "source": [
    "---"
   ]
  },
  {
   "cell_type": "markdown",
   "metadata": {
    "collapsed": false
   },
   "source": [
    "# A. Python Lab \n",
    "<a id = 'lab'></a>\n",
    "## 1. THE NUMPY LIBRARY\n",
    "<a id = 'numpy'></a>\n",
    "\n",
    "However for us, another fascinating Python \"library\" is **Numpy**, which is a particularly useful library for dealing with numbers. It is **the standard fundamental library for scientific computing**. You will see it soon in the upcoming FA classes. This library contains special functions that save you a lot of time, especially when working with lists of numbers. For example, one can easily calculate the mean and median of a list of integers or floats using NumPy. See the example below.\n",
    "\n"
   ]
  },
  {
   "cell_type": "code",
   "execution_count": 0,
   "metadata": {
    "collapsed": false
   },
   "outputs": [
   ],
   "source": [
    "import numpy as np # this line imports the numpy package. The \"as\" command \n",
    "                   # allows the programmer to shorten the module's name \n",
    "                   # when calling it in the future!\n",
    "lst = [2, 4, 4, 4, 6, 6, 8]\n",
    "\n",
    "print(np.median(lst)) # note that we called the library as \"np\""
   ]
  },
  {
   "cell_type": "markdown",
   "metadata": {
    "collapsed": false
   },
   "source": [
    "Knowing that `mean` is another function from the `numpy` module, your task is to compute the mean of list A below. "
   ]
  },
  {
   "cell_type": "code",
   "execution_count": 0,
   "metadata": {
    "collapsed": false
   },
   "outputs": [
   ],
   "source": [
    "A = [1,1,1,2,3,4,5]\n",
    "# Your code here"
   ]
  },
  {
   "cell_type": "markdown",
   "metadata": {
    "collapsed": false
   },
   "source": [
    "NumPy has all sorts of useful mathematical functions. For example, it knows the value of $\\pi$:"
   ]
  },
  {
   "cell_type": "code",
   "execution_count": 0,
   "metadata": {
    "collapsed": false
   },
   "outputs": [
   ],
   "source": [
    "print(np.pi)"
   ]
  },
  {
   "cell_type": "markdown",
   "metadata": {
    "collapsed": false
   },
   "source": [
    "NumPy can also help us with square roots ($\\sqrt{x}$) using its `sqrt` function. But wait, don't we already know how to take the square root of a number in Python? (*Hint*: think of exponents!) \n",
    "Fill in the function below to make your own square root function using the hint, then compare to NumPy's version to make sure they agree."
   ]
  },
  {
   "cell_type": "code",
   "execution_count": 0,
   "metadata": {
    "collapsed": false
   },
   "outputs": [
   ],
   "source": [
    "def mysqrt(x):\n",
    "    return # fill this in\n",
    "\n",
    "\n",
    "test_val = 36 #re-run with a few different test values\n",
    "print(np.sqrt(test_val))\n",
    "print(mysqrt(test_val))"
   ]
  },
  {
   "cell_type": "markdown",
   "metadata": {
    "collapsed": false
   },
   "source": [
    "If you are interested (**hint**: you are) in learning more functions from the NumPy library, check out [this tutorial](https://docs.scipy.org/doc/numpy-1.15.1/user/quickstart.html). **You are highly encouraged to check this out sometime outside of the SSS**."
   ]
  },
  {
   "cell_type": "markdown",
   "metadata": {
    "collapsed": false
   },
   "source": [
    "<div class=\"alert alert-block alert-success\">\n",
    "    <div class=\"col-xs-6 col-sm-3 col-md-2 col-lg-1\"> <img class=\"img-responsive responsive-img\" src=\"https://www.shareicon.net/data/512x512/2016/08/18/813877_snake_512x512.png\" alt=\"...\"></div>\n",
    "    <br> Did you know that you can access all class resources (including Google docs, slides and even Jupyter Notebooks) after class? These resources are available on the <b>class page</b>, scroll to the bottom. You should take advantage of these! For example, the code will come in handy when you need to write your code for the assignments. Are you allowed to straight-up copy code from class, or here, to use in your assignments? <b>Yes</b>! BUT, it must be full of thorough comments to show that you understand how it works.\n",
    "</div>"
   ]
  },
  {
   "cell_type": "markdown",
   "metadata": {
    "collapsed": false
   },
   "source": [
    "---"
   ]
  },
  {
   "cell_type": "markdown",
   "metadata": {
    "colab_type": "text",
    "collapsed": false,
    "id": "QzGz9q0lSCmf"
   },
   "source": [
    "## B. Exercises \n",
    "### Exercise 1. Comparing math and numpy libraries\n",
    "\n",
    "Check whether  Pi from math library is the same as pi from numpy library and output single boolean. \n"
   ]
  },
  {
   "cell_type": "code",
   "execution_count": 0,
   "metadata": {
    "collapsed": false
   },
   "outputs": [
   ],
   "source": [
    "# your code"
   ]
  },
  {
   "cell_type": "markdown",
   "metadata": {
    "collapsed": false
   },
   "source": [
    "### Exercise 2. Random\n",
    "Using Official Numpy Documntation, try producing a random number between 1 and 2023. "
   ]
  },
  {
   "cell_type": "code",
   "execution_count": 0,
   "metadata": {
    "collapsed": false
   },
   "outputs": [
   ],
   "source": [
    "#your code"
   ]
  },
  {
   "cell_type": "markdown",
   "metadata": {
    "collapsed": false
   },
   "source": [
    "\n",
    "### Exercise 3. Numpy's magic \n",
    "Write a function `mystats` that computes the following quantities for a list of values using NumPy functions. \n",
    "\n",
    "1. length\n",
    "2. mean\n",
    "3. median"
   ]
  },
  {
   "cell_type": "code",
   "execution_count": 0,
   "metadata": {
    "colab": {
    },
    "colab_type": "code",
    "collapsed": true,
    "id": "ez3TXq3qA5du"
   },
   "outputs": [
   ],
   "source": [
    "# Your code here"
   ]
  },
  {
   "cell_type": "markdown",
   "metadata": {
    "collapsed": false
   },
   "source": [
    "---"
   ]
  },
  {
   "cell_type": "markdown",
   "metadata": {
    "colab_type": "text",
    "collapsed": false,
    "id": "lTnWQ687pgeB"
   },
   "source": [
    "## C. [Revision] Exercises \n",
    "\n",
    "Below are exercises from the previous SSS sessions. Use them to catch up on what you have missed in previous sessions and identify your knwoledge gaps. \n",
    "\n",
    "<br>\n",
    "\n",
    " <img class=\"img-responsive responsive-img\" src=\"data:image/jpeg;base64,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\" alt=\"...\">\n",
    "\n",
    "<br>"
   ]
  },
  {
   "cell_type": "markdown",
   "metadata": {
    "collapsed": false
   },
   "source": [
    "<div class=\"alert alert-block alert-success\">\n",
    "<div class=\"col-md-2 col-lg-1 col-xs-6 col-sm-3\"> <img class=\"img-responsive responsive-img\" src=\"https://www.shareicon.net/data/512x512/2016/08/18/813877_snake_512x512.png\" alt=\"...\"></div>\n",
    "    <strong>NOTE: \n",
    "    </strong> \n",
    "    <br>You can start from <strong>ANY</strong> exercise depending on your abilities.  You may choose to start with the exercises from weeks 1-2 if you need more practice with the basics, or challenge yourself with the optional problems. </br>\n",
    "</div>\n",
    "\n"
   ]
  },
  {
   "cell_type": "markdown",
   "metadata": {
    "collapsed": false
   },
   "source": [
    "## WEEK 2"
   ]
  },
  {
   "cell_type": "markdown",
   "metadata": {
    "colab_type": "text",
    "collapsed": false,
    "id": "PWqm76Mq9IMV"
   },
   "source": [
    "\n",
    "### Exercise 2.1. Decisions with `if-elif-else`"
   ]
  },
  {
   "cell_type": "markdown",
   "metadata": {
    "colab_type": "text",
    "collapsed": false,
    "id": "OaE85KEP9SOw"
   },
   "source": [
    "You are deciding whether to take an absence from the FA class this morning. Suppose at the moment the only two feelings you can have is `\"tired\"` or `\"not tired\"`. You have a special set of rules to follow in this decision-making process:\n",
    "* You will definitely go to class if you have no permitted absences left.\n",
    "* You will go to class if you have at least one permitted absences left and you are not feeling tired.\n",
    "* If you are feeling tired, and there is at least one permitted absences left, you won't go to class.\n",
    "\n",
    "Use the information above to complete the following question:"
   ]
  },
  {
   "cell_type": "code",
   "execution_count": 0,
   "metadata": {
    "colab": {
    },
    "colab_type": "code",
    "collapsed": true,
    "id": "UKGFD5kq9VlD"
   },
   "outputs": [
   ],
   "source": [
    "absences = 1\n",
    "feeling = 'not tired' \n",
    "\n",
    "############################################################################################\n",
    "#  TODO: Write code that reflects the above rules (i.e., print a decision based on the     #\n",
    "#  values of the variables absences and feeling. The variable absences indicates the       #\n",
    "#  number of permitted absences. The variable feeling indicate the feeling you are having. #\n",
    "#  Your code should use the if-elif-else structure.                                        #\n",
    "############################################################################################\n",
    "\n"
   ]
  },
  {
   "cell_type": "markdown",
   "metadata": {
    "collapsed": false
   },
   "source": [
    "### Exercise 2.2. Back to old times\n",
    "<a id = 'ex2'></a>\n",
    "\n",
    "Back in old school times, some teachers were using endless line-writing on blackboard to fix pupil's behavior. It was believed that repetition is a key to memorization.\n",
    "<br>\n",
    "![blackboard.jpg](attachment:blackboard.jpg)\n",
    "\n",
    "In Python, writing 100 line of some statement is not a huge deal! \n",
    "\n",
    "Your task is to give yourself a promise (e.g. \"I will be coming to SSS and study proactively\") for these SSS sessions and print it out 100 times using For loops!\n",
    "\n",
    "P.S. Remember, it is a binding contract :)"
   ]
  },
  {
   "cell_type": "markdown",
   "metadata": {
    "collapsed": false
   },
   "source": [
    "### Exercise 2.3. \n",
    "Write a Python program to find those numbers which are divisible by 7 and multiple of 5, between 1 and 2023 (both included)."
   ]
  },
  {
   "cell_type": "code",
   "execution_count": 0,
   "metadata": {
    "collapsed": false
   },
   "outputs": [
   ],
   "source": [
    "#your code here"
   ]
  },
  {
   "cell_type": "markdown",
   "metadata": {
    "collapsed": false
   },
   "source": [
    "### Exercise 2.4. \n",
    "Create a function `build_even_pyramid` which receives a positive integer `n` as an argument and prints a pyramid of that level if `n` is even, and prints `\"n is not even\"` otherwise. For example,\n",
    "`build_even_pyramid(2)` should print:\n",
    "![pyramid2.png](attachment:pyramid2.png)\n",
    "\n",
    "`build_even_pyramid(6)` should print:\n",
    "![pyramid6.png](attachment:pyramid6.png)\n",
    "\n",
    "`build_even_pyramid(50)` should print:\n",
    "![pyramid50.png](attachment:pyramid50.png)\n",
    "\n",
    "`build_even_pyramid(3)` should print:\n",
    "`n is not even`"
   ]
  },
  {
   "cell_type": "code",
   "execution_count": 0,
   "metadata": {
    "collapsed": false
   },
   "outputs": [
   ],
   "source": [
    "#your code here"
   ]
  },
  {
   "cell_type": "markdown",
   "metadata": {
    "colab_type": "text",
    "collapsed": false,
    "id": "ORj31WUBpgeP"
   },
   "source": [
    "## WEEK 3\n",
    "<br>\n",
    "\n",
    " <img class=\"img-responsive responsive-img\" src=\"https://i.pinimg.com/originals/89/7c/dd/897cdd63eb40f52ac469baa7d50780c7.gif\" alt=\"...\">\n",
    "\n",
    "<br>"
   ]
  },
  {
   "cell_type": "markdown",
   "metadata": {
    "colab_type": "text",
    "collapsed": false,
    "id": "cjZT5J0lpgeP"
   },
   "source": [
    "### Exercise 3.1. Exclusive Or (XOR)\n",
    "\n",
    "From Wikipedia: \"Exclusive or or exclusive disjunction is a logical operation that outputs true only when inputs differ (one is true, the other is false)\"\n",
    "\n",
    "*You may find this concept useful for the logic puzzle portion of the FA logical thinking assignment!*\n",
    "\n",
    "Which of the following functions (A, B, C, or D) perform this operation (P and Q are boolean values)? Explain your answer"
   ]
  },
  {
   "cell_type": "code",
   "execution_count": 0,
   "metadata": {
    "colab": {
    },
    "colab_type": "code",
    "collapsed": true,
    "id": "F0bKjIUypgeP"
   },
   "outputs": [
   ],
   "source": [
    "def A(P, Q):\n",
    "    return not (P or Q)\n",
    "\n",
    "def B(P, Q):\n",
    "    return (P or Q) and (not (P and Q))\n",
    "\n",
    "def C(P, Q):\n",
    "    return (P or Q) and ((not P) or (not Q))\n",
    "\n",
    "def D(P, Q):\n",
    "    return True or False\n",
    "\n",
    "# Optional\n",
    "def E(P, Q):\n",
    "    return (P + Q)==1"
   ]
  },
  {
   "cell_type": "markdown",
   "metadata": {
    "colab_type": "text",
    "collapsed": false,
    "id": "lRHku24ApgeQ"
   },
   "source": [
    "** Your answer here**"
   ]
  },
  {
   "cell_type": "markdown",
   "metadata": {
    "collapsed": false
   },
   "source": [
    "<div class=\"alert alert-block alert-success\">\n",
    "<div class=\"col-md-2 col-lg-1 col-xs-6 col-sm-3\"> <img class=\"img-responsive responsive-img\" src=\"https://www.shareicon.net/data/512x512/2016/08/18/813877_snake_512x512.png\" alt=\"...\"></div>\n",
    "    <strong>REMINDER: \n",
    "    </strong> \n",
    "    <br>You can do <strong>ANY</strong> exercises depending on your abilities. If you believe you have knowledge gaps in specific topics, do those exercises first. Otherwise, if you have done all of the exercises from previous notebooks, feel free to just revise and move to the next set of optional exercises. </br>\n",
    "</div>\n"
   ]
  },
  {
   "cell_type": "markdown",
   "metadata": {
    "collapsed": false
   },
   "source": [
    "### Exercise 3.2. Lists creation\n",
    "<a id=\"ex2\"></a>\n",
    "Write a function `double_step_list(end_point)`, which would take `end_point` as an argument and return a list containing every second element up to this argument. The code snippet below exemplified the desired output and needed input.  \n",
    "```\n",
    "[in]   double_step_list(8) \n",
    "[out]    [0,2,4,6,8]"
   ]
  },
  {
   "cell_type": "code",
   "execution_count": 0,
   "metadata": {
    "collapsed": false
   },
   "outputs": [
   ],
   "source": [
    "def double_step_list(end_point):\n",
    "    "
   ]
  },
  {
   "cell_type": "markdown",
   "metadata": {
    "collapsed": false
   },
   "source": [
    "### Exercise 3.3. Divisible by...\n",
    "Write a python program to read three numbers (a,b,c) and check how many numbers between ‘a’ and ‘b’ are divisible by ‘c’"
   ]
  },
  {
   "cell_type": "code",
   "execution_count": 0,
   "metadata": {
    "collapsed": false
   },
   "outputs": [
   ],
   "source": [
   ]
  },
  {
   "cell_type": "markdown",
   "metadata": {
    "colab_type": "text",
    "collapsed": false,
    "id": "xp07EHmqpgeR"
   },
   "source": [
    "### Exercise 3.2. Search Engine Upgrade\n",
    "\n",
    "Write a function that searches a word `word` of arbitrary length in another string-- the `big_string`. The function should return a message indicating whether the word could be found in `big_string` or not. Assume that `len(big_string)` > `len(word)`"
   ]
  },
  {
   "cell_type": "code",
   "execution_count": 1,
   "metadata": {
    "colab": {
    },
    "colab_type": "code",
    "collapsed": false,
    "id": "0EqLjBhupgeR"
   },
   "outputs": [
   ],
   "source": [
    "# Your code here"
   ]
  },
  {
   "cell_type": "markdown",
   "metadata": {
    "colab_type": "text",
    "collapsed": false,
    "id": "XtA5X-Ej7mTi"
   },
   "source": [
    "### Exercise 3.3. Word Count\n",
    "\n",
    "Write a function that counts the number of words in a given string. For example, the function outputs `3` given the text \"I love Python\". You can make some assumptions about the input in your solution (e.g., the text does not end with a white space)"
   ]
  },
  {
   "cell_type": "code",
   "execution_count": 0,
   "metadata": {
    "colab": {
    },
    "colab_type": "code",
    "collapsed": true,
    "id": "MLlcF4zT7rqn"
   },
   "outputs": [
   ],
   "source": [
    "# Your code here"
   ]
  },
  {
   "cell_type": "markdown",
   "metadata": {
    "colab_type": "text",
    "collapsed": false,
    "id": "9gSsMzu6pgeS"
   },
   "source": [
    "## WEEK 4\n",
    "<br>\n",
    "\n",
    " <img class=\"img-responsive responsive-img\" src=\"https://img.buzzfeed.com/buzzfeed-static/static/2017-08/2/21/asset/buzzfeed-prod-fastlane-03/sub-buzz-22669-1501724940-6.jpg?downsize=700:*&output-format=auto&output-quality=auto\" alt=\"...\">\n",
    "\n",
    "<br>"
   ]
  },
  {
   "cell_type": "markdown",
   "metadata": {
    "colab_type": "text",
    "collapsed": false,
    "id": "8oUXWPQopgeV"
   },
   "source": [
    "### Exercise 4.1. Count from Scratch\n",
    "\n",
    "In Python, `count` is a built-in function to count the number of occurences of an element in a list. The cell below will print the number of times the number 5 appears in list `A`:"
   ]
  },
  {
   "cell_type": "code",
   "execution_count": 0,
   "metadata": {
    "colab": {
    },
    "colab_type": "code",
    "collapsed": false,
    "id": "suQUjlyypgeW",
    "outputId": "e8483f32-1adf-4d6d-98c9-b5307dedced1"
   },
   "outputs": [
    {
     "name": "stdout",
     "output_type": "stream",
     "text": [
      "3\n"
     ]
    }
   ],
   "source": [
    "A = [5,4,3,5,6,3,5]\n",
    "print(A.count(5))"
   ]
  },
  {
   "cell_type": "markdown",
   "metadata": {
    "colab_type": "text",
    "collapsed": false,
    "id": "AGnG2QX3pgeZ"
   },
   "source": [
    "But we can definitely build a function on our own that could do such jobs! Write a function that inputs a list and a value, `my_count(lst,val)`, and counts the number of occurences of the value (`val`) in the list (`lst`). Make sure to compare what your function returns with that of the built-in function.  "
   ]
  },
  {
   "cell_type": "code",
   "execution_count": 0,
   "metadata": {
    "colab": {
    },
    "colab_type": "code",
    "collapsed": true,
    "id": "zq_IZF4SpgeU"
   },
   "outputs": [
   ],
   "source": [
    "# Your code here"
   ]
  },
  {
   "cell_type": "markdown",
   "metadata": {
    "colab_type": "text",
    "collapsed": false,
    "id": "C5OFoOn6pgeT"
   },
   "source": [
    "### Exercise 4.2. Truth Table\n",
    "\n",
    "The truth table for evaluating `(P  and  Q)  or  P` is given below:\n",
    "\n",
    "Row no. | P | Q | P and Q | (P and Q) or P \n",
    "--- | --- | --- | --- | ---\n",
    "1 | T | T | T | T \n",
    "2 | T | F | F | T\n",
    "3 | F | T | F | F\n",
    "4 | F | F | F | F\n",
    "\n",
    "Each row in the table above can be represented by a Python list. For example, the list `[True, False, False, True]` can be used to represent the second row. \n",
    "Our task now is to fill in the 2 missing values of such lists if the first two values are known. For example, if A = `[True, False]` is intended to represent part of the second row (just the truth values for P and Q), it has two missing values at the end, `False` and `True`. Write a function that takes a two-element list as arguments and return a complete list that represents a row in the table."
   ]
  },
  {
   "cell_type": "code",
   "execution_count": 0,
   "metadata": {
    "colab": {
    },
    "colab_type": "code",
    "collapsed": true,
    "id": "K_eJ_YeDpgeZ"
   },
   "outputs": [
   ],
   "source": [
    "# Your code here"
   ]
  },
  {
   "cell_type": "markdown",
   "metadata": {
    "colab_type": "text",
    "collapsed": false,
    "id": "b2qalktI5tD7"
   },
   "source": [
    "### Exercise 4.3. Mode from Scratch\n",
    "\n",
    "From Wikipedia: \"The mode of a set of data values is the value that appears most often\". For example, the mode of [3,1,4,4,1,1,1,1,2] is 1 since 1 is the most common value (appearing 5 times). Write a function that finds **a** mode of a given list of numbers. You may find the function you created in the counting exercise above helpful."
   ]
  },
  {
   "cell_type": "code",
   "execution_count": 0,
   "metadata": {
    "colab": {
    },
    "colab_type": "code",
    "collapsed": true,
    "id": "--1Zs3WP51Rz"
   },
   "outputs": [
   ],
   "source": [
    "# Your code here"
   ]
  },
  {
   "cell_type": "markdown",
   "metadata": {
    "colab_type": "text",
    "collapsed": false,
    "id": "6YSJzlLX50L-"
   },
   "source": [
   ]
  },
  {
   "cell_type": "markdown",
   "metadata": {
    "collapsed": false
   },
   "source": [
    "## D. [Revision] Optional Exercises\n",
    "\n",
    "EVEN MORE EXCITING EXERCISES!!!"
   ]
  },
  {
   "cell_type": "markdown",
   "metadata": {
    "colab_type": "text",
    "collapsed": false,
    "id": "1mmHguh87KDO"
   },
   "source": [
    "#### 1. Variables: Augmented Assignment"
   ]
  },
  {
   "cell_type": "markdown",
   "metadata": {
    "colab_type": "text",
    "collapsed": false,
    "id": "a_tPbAH47mmE"
   },
   "source": [
    "Suppose you already have a variable with value 0.5, like this:"
   ]
  },
  {
   "cell_type": "code",
   "execution_count": 0,
   "metadata": {
    "colab": {
    },
    "colab_type": "code",
    "collapsed": true,
    "id": "ohYiTAX17ov9"
   },
   "outputs": [
   ],
   "source": [
    "my_level_of_confidence = 5/10"
   ]
  },
  {
   "cell_type": "markdown",
   "metadata": {
    "colab_type": "text",
    "collapsed": false,
    "id": "TQ5vw-bK7zpm"
   },
   "source": [
    "Now you want to increment the variable a bit, say, by 0.2, you can code like this:"
   ]
  },
  {
   "cell_type": "code",
   "execution_count": 0,
   "metadata": {
    "colab": {
    },
    "colab_type": "code",
    "collapsed": true,
    "id": "PigyqcgC7pKW"
   },
   "outputs": [
   ],
   "source": [
    "my_level_of_confidence = my_level_of_confidence + 0.2"
   ]
  },
  {
   "cell_type": "markdown",
   "metadata": {
    "colab_type": "text",
    "collapsed": false,
    "id": "yTWvMojv72a2"
   },
   "source": [
    "The above line could be shortened:"
   ]
  },
  {
   "cell_type": "code",
   "execution_count": 0,
   "metadata": {
    "colab": {
    },
    "colab_type": "code",
    "collapsed": true,
    "id": "3bFh93uy7q0e"
   },
   "outputs": [
   ],
   "source": [
    "my_level_of_confidence += 0.2"
   ]
  },
  {
   "cell_type": "markdown",
   "metadata": {
    "colab_type": "text",
    "collapsed": false,
    "id": "RBu36AtY77h7"
   },
   "source": [
    "That is called the an \"augmented assignment\"-- a shorthand for combining an assignment and an expression. It turns out you can use this pattern for some other operators:"
   ]
  },
  {
   "cell_type": "code",
   "execution_count": 0,
   "metadata": {
    "colab": {
    },
    "colab_type": "code",
    "collapsed": true,
    "id": "RzqwT9yU7sa_"
   },
   "outputs": [
   ],
   "source": [
    "my_level_of_confidence -= .1\n",
    "my_level_of_confidence *= 2 # Divine!\n",
    "my_level_of_confidence /= 2 # :(\n",
    "my_level_of_confidence //= 2 \n",
    "my_level_of_confidence **= 2 # <3<3<3"
   ]
  },
  {
   "cell_type": "markdown",
   "metadata": {
    "colab_type": "text",
    "collapsed": false,
    "id": "AUf1zsps8Dz9"
   },
   "source": [
    "Now, create a variable by assigning the integer 0 to it, and increase the variable by 2 a hundred times (recall which tool in Python can help you with this repetitive, tedious job.) This is to practice using augmented assignments, so make sure you use them."
   ]
  },
  {
   "cell_type": "code",
   "execution_count": 0,
   "metadata": {
    "colab": {
    },
    "colab_type": "code",
    "collapsed": true,
    "id": "zYSJjFNF7tzt"
   },
   "outputs": [
   ],
   "source": [
    "# Your code here"
   ]
  },
  {
   "cell_type": "markdown",
   "metadata": {
    "colab_type": "text",
    "collapsed": false,
    "id": "SMijH3NjA5fI"
   },
   "source": [
    "### 2. Pyramid building\n",
    "\n",
    "Create a function `build_even_pyramid` which receives a positive integer `n` as an argument and prints a pyramid of that level if `n` is even, and prints `\"n is not even\"` otherwise. For example,\n",
    "`build_even_pyramid(2)` should print:\n",
    "![Pyramid2](images/pyramid2.png)\n",
    "`build_even_pyramid(6)` should print:\n",
    "![Pyramid6](images/pyramid6.png)\n",
    "`build_even_pyramid(50)` should print:\n",
    "![Pyramid50](images/pyramid50.png)\n",
    "`build_even_pyramid(3)` should print:\n",
    "\n",
    "`n is not even`"
   ]
  },
  {
   "cell_type": "code",
   "execution_count": 0,
   "metadata": {
    "colab": {
    },
    "colab_type": "code",
    "collapsed": true,
    "id": "mUwvDTT9A5fI"
   },
   "outputs": [
   ],
   "source": [
    "# Your code here\n"
   ]
  },
  {
   "cell_type": "markdown",
   "metadata": {
    "colab_type": "text",
    "collapsed": false,
    "id": "2RijYE4OA5fL"
   },
   "source": [
    "### 3. Leap years\n",
    "A *leap year* occurs on any year evenly divisible by 4, but not on a century (100) unless it is divisible by 400. Write a function that inputs a year and outputs whether or not it is a leap year."
   ]
  },
  {
   "cell_type": "code",
   "execution_count": 0,
   "metadata": {
    "colab": {
    },
    "colab_type": "code",
    "collapsed": true,
    "id": "yuVr-HGpA5fM"
   },
   "outputs": [
   ],
   "source": [
    "# Your code here\n"
   ]
  },
  {
   "cell_type": "markdown",
   "metadata": {
    "colab_type": "text",
    "collapsed": false,
    "id": "Hx8ChlNrA5fO"
   },
   "source": [
    "### 4. Palindromes (Project Euler \\#4)\n",
    "\n",
    "A palindromic number reads the same both ways. The largest palindrome made from the product of two 2-digit numbers is 9009 = 91 × 99. Find the largest palindrome made from the product of two 3-digit numbers"
   ]
  },
  {
   "cell_type": "code",
   "execution_count": 0,
   "metadata": {
    "colab": {
    },
    "colab_type": "code",
    "collapsed": true,
    "id": "7awE6W9Upgek"
   },
   "outputs": [
   ],
   "source": [
    "# Your code here"
   ]
  },
  {
   "cell_type": "markdown",
   "metadata": {
    "colab_type": "text",
    "collapsed": false,
    "id": "VCz9J8BYpgel"
   },
   "source": [
    "### 5. Deleting characters\n",
    "\n",
    "Write a function that removes all occurrences of a given letter from a string."
   ]
  },
  {
   "cell_type": "code",
   "execution_count": 0,
   "metadata": {
    "colab": {
    },
    "colab_type": "code",
    "collapsed": true,
    "id": "hfLjxYiBpgel"
   },
   "outputs": [
   ],
   "source": [
    "# Your code here"
   ]
  },
  {
   "cell_type": "markdown",
   "metadata": {
    "colab_type": "text",
    "collapsed": false,
    "id": "PEtpsCGvpgem"
   },
   "source": [
    "### 6. Longest Homogeneous Sublist\n",
    "\n",
    "Given a list, find a longest sublist whose elements are the same. For example, given the list `[1,2,3,2,2,4,5,5,5,5,2,2]` your function should return `[5,5,5,5]`. Note that this is not the same as the mode!"
   ]
  },
  {
   "cell_type": "code",
   "execution_count": 0,
   "metadata": {
    "colab": {
    },
    "colab_type": "code",
    "collapsed": true,
    "id": "-r2Uq1yipgem"
   },
   "outputs": [
   ],
   "source": [
    "# Your code here"
   ]
  },
  {
   "cell_type": "markdown",
   "metadata": {
    "colab_type": "text",
    "collapsed": false,
    "id": "jqbCWDnH6D3G"
   },
   "source": [
    "### 7. Modus Tollens Evaluator\n",
    "\n",
    "Recall that if an argument is valid by modus ponens, it takes the form:\n",
    "\n",
    "1. $P\\rightarrow Q$ (premise)\n",
    "2. $P$ (premise)\n",
    "3. $Q$ (conclusion)\n",
    "\n",
    "And if an argument is valid by modus tollens, it takes the form:\n",
    "\n",
    "1. $P\\rightarrow Q$ (premise)\n",
    "2. $\\neg Q$ (premise)\n",
    "3. $\\neg P$ (conclusion)\n",
    "\n",
    "Recall that in FA class session 3.1, we created a function that evaluates whether or not an argument is valid by modus ponens. One such function is provided below:"
   ]
  },
  {
   "cell_type": "code",
   "execution_count": 0,
   "metadata": {
    "colab": {
    },
    "colab_type": "code",
    "collapsed": true,
    "id": "MNUaFV1_6E1O"
   },
   "outputs": [
   ],
   "source": [
    "def modus_ponens_evaluator(p1_1, p1_2, p2, c):\n",
    "    if p1_1==p2 and p1_2==c:\n",
    "        return(\"Valid by modus ponens\")\n",
    "    else:\n",
    "        return(\"Not valid by modus ponens\")\n",
    "\n",
    "p1_1 = \"one attends the school\"\n",
    "p1_2 = \"one will become a leader\"\n",
    "p2 = \"one attends the school\"\n",
    "c = \"one will not become a leader\"\n",
    "\n",
    "print(modus_ponens_evaluator(p1_1, p1_2, p2, c))"
   ]
  },
  {
   "cell_type": "markdown",
   "metadata": {
    "colab_type": "text",
    "collapsed": false,
    "id": "sHV_X9WO6P1r"
   },
   "source": [
    "Create a function (`modus_tollens_evaluator`) that evaluates whether or not an argument is valid by modus tollens. The test at the end of the following cell should print `True`."
   ]
  },
  {
   "cell_type": "code",
   "execution_count": 0,
   "metadata": {
    "colab": {
    },
    "colab_type": "code",
    "collapsed": true,
    "id": "AuqHeE2l6QTk"
   },
   "outputs": [
   ],
   "source": [
    "def modus_tollens_evaluator(p1_1, p1_2, p2, c):\n",
    "    # fill in here\n",
    "\n",
    "\n",
    "    # end of your code\n",
    "p1_1 = \"one attends the school\"\n",
    "p1_2 = \"one will become a leader\"\n",
    "p2 = \"it is not the case that one will become a leader\"\n",
    "c = \"it is not the case that one attends the school\"\n",
    "print(modus_tollens_evaluator(p1_1, p1_2, p2, c))"
   ]
  },
  {
   "cell_type": "markdown",
   "metadata": {
    "colab_type": "text",
    "collapsed": false,
    "id": "bam_JEZV6hOI"
   },
   "source": [
    "### 8. List Overlap\n",
    "\n",
    "(Adapted from [Practice Python](https://www.practicepython.org/exercise/2014/03/05/05-list-overlap.html))\n",
    "\n",
    "Given two lists containing distinct elements (no duplicates within each list), return a list containing elements that are common between the lists."
   ]
  },
  {
   "cell_type": "code",
   "execution_count": 0,
   "metadata": {
    "colab": {
    },
    "colab_type": "code",
    "collapsed": true,
    "id": "zPvIz0_z6hv6"
   },
   "outputs": [
   ],
   "source": [
    "# Your code here"
   ]
  },
  {
   "cell_type": "markdown",
   "metadata": {
    "collapsed": false
   },
   "source": [
    "<blockquote class=\"alert-warning\">\n",
    "     Key Takeaways from Today´s SSS\n",
    "    <small><b>The STATISTICS</b> UNIT has started!🙀</small>\n",
    "    <small>Python has many (by that we really mean <b>MANY</b>) useful libraries</small>\n",
    "    <small>The funniest Python Library for a snake is a <b>turtle</b> one (is it for you too?)</small>\n",
    "    <small><b>NumPy</b> is a useful library used for scietific compuations. It is POWERFUL</small>\n",
    "    </blockquote>"
   ]
  },
  {
   "cell_type": "markdown",
   "metadata": {
    "collapsed": false
   },
   "source": [
    "    <div class=\"alert alert-block alert-success\">\n",
    "<div class=\"col-md-2 col-lg-1 col-xs-6 col-sm-3\"> <img class=\"img-responsive responsive-img\" src=\"https://www.shareicon.net/data/512x512/2016/08/18/813877_snake_512x512.png\" alt=\"...\"></div>\n",
    "<strong>It was wonderful seeing you today! Come to the OH to learn more and chat!</strong>\n",
    "<br> Also, Congrats on completing your SSS5! Do you have any questions or confusion points? Use the cell below to ask any questions, and we will try to address them in the next sessions or during OH.\n",
    "\n",
    "\n",
    "You can be as precise as you want, e.g. 'I did not know why else statement should not be included.'\n",
    "</div>"
   ]
  },
  {
   "cell_type": "markdown",
   "metadata": {
    "collapsed": false
   },
   "source": [
    "<br>\n",
    "\n",
    " <img class=\"img-responsive responsive-img\" src=\"http://www.quickmeme.com/img/9f/9f73739b22c6ad48efb15dd8da7dcb9db0ecdd69bc46ce320d10a955250a92b3.jpg\" alt=\"...\">\n",
    "\n",
    "<br>\n"
   ]
  },
  {
   "cell_type": "markdown",
   "metadata": {
    "collapsed": false
   },
   "source": [
    "Use this cell to leave comments"
   ]
  }
 ],
 "metadata": {
  "colab": {
   "collapsed_sections": [
   ],
   "name": "SSS5 (1).ipynb",
   "provenance": [
   ],
   "version": "0.3.2"
  },
  "kernelspec": {
   "display_name": "Python 3 (system-wide)",
   "language": "python",
   "metadata": {
    "cocalc": {
     "description": "Python 3 programming language",
     "priority": 100,
     "url": "https://www.python.org/"
    }
   },
   "name": "python3"
  },
  "language_info": {
   "codemirror_mode": {
    "name": "ipython",
    "version": 3
   },
   "file_extension": ".py",
   "mimetype": "text/x-python",
   "name": "python",
   "nbconvert_exporter": "python",
   "pygments_lexer": "ipython3",
   "version": "3.6.8"
  }
 },
 "nbformat": 4,
 "nbformat_minor": 0
}