{
 "cells": [
  {
   "cell_type": "markdown",
   "metadata": {
    "colab_type": "text",
    "collapsed": false,
    "id": "H9iKSDyYSI4e"
   },
   "source": [
    "# SSS 6. #descriptivestats and libraries-sss"
   ]
  },
  {
   "cell_type": "markdown",
   "metadata": {
    "colab_type": "text",
    "collapsed": false,
    "id": "uAgJbshcSI4f"
   },
   "source": [
    "\n",
    "<div class=\"panel panel-success\">\n",
    "  <div class=\"panel-heading\">\n",
    "    <h3 class=\"panel-title\">CONTENTS</h3>\n",
    "  </div>\n",
    "  <div class=\"panel-body\">\n",
    "<ul>\n",
    "    <li><a href=\"#warm\">Warm-up</a></li>\n",
    "    <li><a href=\"#lab\">A. Python Lab: Libraries</a></li>\n",
    "    <ul>\n",
    "        <li><a href=\"#csv\">1. Using .csv Files With Python</a></li>\n",
    "        <li><a href=\"#matplotlib\">2. Plotting with Matplotlib</a></li>\n",
    "        <ul>\n",
    "    <li><a href=\"#ex\">B. Exercise</a></li>\n",
    "    <ul>\n",
    "        <li><a href=\"#exercise1\">Exercise 1</a></li>\n",
    "        <li><a href=\"#exercise2\">Exercise 2</a></li>\n",
    "        <li><a href=\"#exercise3\">Exercise 3</a></li>\n",
    "        <li><a href=\"#exercise4\">Exercise 4</a></li>\n",
    "        <li><a href=\"#exercise5\">[Optional] Exercise 5</a></li>\n",
    "        <li><a href=\"#exercise6\">[Optional] Exercise 6</a></li>\n",
    "        <li><a href=\"#exercise7\">[Optional] Exercise 7</a></li>\n",
    "        </ul>\n",
    "    </ul>\n",
    "  </div>\n",
    "</div>"
   ]
  },
  {
   "cell_type": "markdown",
   "metadata": {
    "collapsed": false
   },
   "source": [
    "\n",
    "![welcome back gif](https://media.giphy.com/media/7AdfePb5FSHqYC2MNv/giphy.gif)\n",
    "\n",
    "    \n",
    "This SSS-sss is a quick introduction to a few popular Python libraries that you'll be using frequently. You've already seen them in FA class this week! We'll continue learning about these libraries in upcoming SSS's, so you will continue to gain familiarity as the semester goes. We will also review **#descriptivestats** this week, as well as preview **#correlation** and **#dataviz**.\n"
   ]
  },
  {
   "cell_type": "markdown",
   "metadata": {
    "collapsed": false
   },
   "source": [
    "## Warm-up\n",
    "<a id=\"warm\"></a>\n",
    "We have started learning this library in the previous session. Let's revise it by doing one exercise: \n",
    "##### Shoesize\n",
    "First ask your fellow classmates for their shoesizes. Collect all of the numbers and create a new array out of them called `lst`. \n"
   ]
  },
  {
   "cell_type": "code",
   "execution_count": 3,
   "metadata": {
    "collapsed": false
   },
   "outputs": [
   ],
   "source": [
    "lst = []"
   ]
  },
  {
   "cell_type": "markdown",
   "metadata": {
    "collapsed": false
   },
   "source": [
    "<div class=\"alert alert-block alert-success\">\n",
    "<div class=\"col-md-2 col-lg-1 col-xs-6 col-sm-3\"> <img class=\"img-responsive responsive-img\" src=\"https://www.shareicon.net/data/512x512/2016/08/18/813877_snake_512x512.png\" alt=\"...\"></div>\n",
    "    <strong>RECAP: \n",
    "    </strong> \n",
    "    <br>As you know from the SSS5, Python <b>\"libraries\"</b> are packages that contain <b>data structures and functions</b> that perform specific tasks. Since they are special, we have to tell Python to import them before we can use them in our own code. This requires an <b>IMPORT</b> statement at the top of our code; look out for these statements in the examples to follow.</br>\n",
    "</div>\n",
    "\n",
    "\n"
   ]
  },
  {
   "cell_type": "markdown",
   "metadata": {
    "collapsed": false
   },
   "source": [
    "Now import the numpy library and find the mean, median, sum, standard deviation, range and mode of `lst`. \n"
   ]
  },
  {
   "cell_type": "code",
   "execution_count": 4,
   "metadata": {
    "collapsed": false
   },
   "outputs": [
   ],
   "source": [
    "mean = \n",
    "median = \n",
    "std = \n",
    "mode = \n",
    "sum = \n",
    "range =\n",
    "\n",
    "print(mean, median, std, sum, mode, range)"
   ]
  },
  {
   "cell_type": "markdown",
   "metadata": {
    "collapsed": false
   },
   "source": [
    " If you are interested (hint: you are) in learning more functions from the NumPy library, check out [this tutorial](https://docs.scipy.org/doc/numpy-1.15.1/user/quickstart.html). **You are highly encouraged to check this out sometime outside of the SSS**.\n",
    "\n"
   ]
  },
  {
   "cell_type": "markdown",
   "metadata": {
    "colab_type": "text",
    "collapsed": false,
    "id": "UrVxQLOmq_lL"
   },
   "source": [
    "# A. Python Lab: Libraries\n",
    "<a id=\"lab\"></a>"
   ]
  },
  {
   "cell_type": "markdown",
   "metadata": {
    "colab_type": "text",
    "collapsed": false,
    "id": "6Yii4-wcSI4h"
   },
   "source": [
    "## 1. Using .csv Files With Python\n",
    "<a id=\"csv\"></a>"
   ]
  },
  {
   "cell_type": "markdown",
   "metadata": {
    "colab_type": "text",
    "collapsed": false,
    "id": "QksgtGPQSI4i"
   },
   "source": [
    "***Story time!*** Prince Charming, now a Minerva student, asked each of his peers in his FA class what their ages are. He also asked his peers to estimate how much ice-cream, in grams, they consume per month. He recorded this data on an Excel document. John wants to perform some tests on his data: he wants to find the mode, mean and median for both age and ice cream consumption, and he wants to use Python to do so. \n",
    "\n",
    "To begin with, John exports his Excel doc as a **.csv file** (a very simple file type that stores the contents from a table, similar to a spreadsheet). He now has to import that file to his Anaconda Jupyter Notebook program. Look at the code below. Before running it, can you try to guess what it does? After you have a hunch, run it! "
   ]
  },
  {
   "cell_type": "markdown",
   "metadata": {
    "collapsed": false
   },
   "source": [
    "<div class=\"alert alert-block alert-success\">\n",
    "    <div class=\"col-xs-6 col-sm-3 col-md-2 col-lg-1\"> <img class=\"img-responsive responsive-img\" src=\"https://www.shareicon.net/data/512x512/2016/08/18/813877_snake_512x512.png\" alt=\"...\"></div>\n",
    "    <strong>SIDE NOTE: \n",
    "    </strong> \n",
    "    <br>The code in FA session 6.2 used a different method for reading in the Young People Survey csv file involving another library, <b>\"pandas\"</b>. This is a popular, but more advanced, statistics package that we will not cover in detail here, maybe later :)\n",
    "</div>"
   ]
  },
  {
   "cell_type": "code",
   "execution_count": 0,
   "metadata": {
    "colab": {
    },
    "colab_type": "code",
    "collapsed": true,
    "id": "F-uNqi9-SI4j"
   },
   "outputs": [
   ],
   "source": [
    "import csv \n",
    "\n",
    "file = csv.reader(open('student_data.csv'))\n",
    "\n",
    "print(type(file))\n",
    "\n",
    "for row in file:\n",
    "    print(row)"
   ]
  },
  {
   "cell_type": "markdown",
   "metadata": {
    "colab_type": "text",
    "collapsed": false,
    "id": "yy1Ujyg1SI4p"
   },
   "source": [
    "Now, let's break it down:\n",
    "1. The `import csv` command imports the Python library that allows one to use csv-related methods\n",
    "2. The variable `file` is set to a .csv file (John's data)\n",
    "3. The `open` command asks the interpreter to open a file with the name 'student_data.csv' that lies within the same directory as this notebook (i.e., the same \"folder\" in Windows or Mac OS)\n",
    "4. The `csv.reader()` command \"reads\" the file we opened, meaning it transforms that file into a format usable by the Python interpreter\n",
    "5. Now we have a variable named file that corresponds to a '.csv reader' data type! This datatype can be iterated over just like a list, and that is what we do with the 'for' loop: we iterate over each row, and print its contents!"
   ]
  },
  {
   "cell_type": "markdown",
   "metadata": {
    "colab_type": "text",
    "collapsed": false,
    "id": "GDBqI9DdSI4t"
   },
   "source": [
    "As it turns out, Prince Charming is pretty sure that student's estimations for how much ice-cream they consumer are too low! He thinks each person consumes 100 g more ice-cream than they think! With that in mind, John wants to add 100 g to each of the ice-cream estimations within his table. First, he wants to create a list with all values of ice-cream consumption, and then he wants to increase his values by 100 each. This is the code he writes:"
   ]
  },
  {
   "cell_type": "code",
   "execution_count": 0,
   "metadata": {
    "colab": {
    },
    "colab_type": "code",
    "collapsed": true,
    "id": "B6eBaIm3SI4u",
    "outputId": "0fe37d99-7699-4db5-908e-65741c4e91cb"
   },
   "outputs": [
   ],
   "source": [
    "import csv\n",
    "\n",
    "file = csv.reader(open('student_data.csv'))\n",
    "\n",
    "print(type(file))\n",
    "\n",
    "ice_cream = [] #an emtpy list\n",
    "\n",
    "for row in file:\n",
    "    ice_cream.append(row[2]) # At this stage, we are copying the relevant values \n",
    "                             # to a list because a list is easier to manipulate\n",
    "                             # because we already learned about them in SSS4\n",
    "\n",
    "print(\"This is the original list of estimates:\\n\", ice_cream)\n",
    "\n",
    "for idx in range(len(ice_cream)): # can you figure out why we iterated using the \"range\" \n",
    "                                  # function rather than by iterating over the list's elements?\n",
    "    if not idx == 0: #Hint: the quesiton above has to do with this line!\n",
    "        ice_cream[idx] = float(ice_cream[idx]) + 100\n",
    "\n",
    "print(\"\\nThis is the new, corrected list of estimates:\\n\", ice_cream)"
   ]
  },
  {
   "cell_type": "markdown",
   "metadata": {
    "colab_type": "text",
    "collapsed": false,
    "id": "j5THgpkISI4x"
   },
   "source": [
    "Now these estimates seem more plausible! \n",
    "\n",
    "But wait! Prince Charming found out that his classmates are liars (including himself!) Those who said they had 19 or more years of age are actually two years younger! Do you think you could write code, similar to the one above, to make the necessary corrections?"
   ]
  },
  {
   "cell_type": "code",
   "execution_count": 0,
   "metadata": {
    "colab": {
    },
    "colab_type": "code",
    "collapsed": true,
    "id": "itljZ6z-SI4y"
   },
   "outputs": [
   ],
   "source": [
    "import csv\n",
    "\n",
    "file = csv.reader(open('student_data.csv'))\n",
    "\n",
    "ages = []\n",
    "\n",
    "for row in file:\n",
    "    # use this loop to create a list with students' (fake) ages!\n",
    "    \n",
    "print(\"These were the ages students claimed to be:\", ages)\n",
    "\n",
    "for idx in range(len(ages)):\n",
    "    # can you input the code here to correct their ages, and output a list with the correct values?"
   ]
  },
  {
   "cell_type": "markdown",
   "metadata": {
    "collapsed": false
   },
   "source": [
    "One last thing to get this data ready for analysis.\n",
    "\n",
    "In the exercises below, you will get to help John compute descriptive stats and make plots for his data using these `ice_cream` and `ages` lists. But there is one problem with our lists: the first element of each list should not be part of the processed data. For example, the first element of `ages` is `'Age'`, which is just a header for a data column and not an actual age. The cell below contains one way to delete the first element of each list. Run it to see how the header has been removed for the ages data."
   ]
  },
  {
   "cell_type": "code",
   "execution_count": 0,
   "metadata": {
    "collapsed": true
   },
   "outputs": [
   ],
   "source": [
    "ages_data = ages[1:]\n",
    "print(ages_data)"
   ]
  },
  {
   "cell_type": "markdown",
   "metadata": {
    "collapsed": false
   },
   "source": [
    "Do the same for the ice cream consumption data:"
   ]
  },
  {
   "cell_type": "code",
   "execution_count": 0,
   "metadata": {
    "collapsed": true
   },
   "outputs": [
   ],
   "source": [
    "# your code to fix the ice cream data"
   ]
  },
  {
   "cell_type": "markdown",
   "metadata": {
    "colab_type": "text",
    "collapsed": false,
    "id": "1CvuEoysSI46"
   },
   "source": [
    "## 2. Plotting With Matplotlib\n",
    "<a id=\"matplotlib\"></a>"
   ]
  },
  {
   "cell_type": "markdown",
   "metadata": {
    "collapsed": false
   },
   "source": [
    "<div class=\"alert alert-block alert-success\">\n",
    "    <div class=\"col-xs-6 col-sm-3 col-md-2 col-lg-1\"> <img class=\"img-responsive responsive-img\" src=\"https://www.shareicon.net/data/512x512/2016/08/18/813877_snake_512x512.png\" alt=\"...\"></div>\n",
    "    <strong>NOTES-sss: \n",
    "    </strong> \n",
    "    <br>\n",
    "    \n",
    "- Even advanced programmers sometimes <b>cannot</b> remember all the function syntax and need to rely on help from the <b>Internet</b>, so it is important we practice garnering readily available information out there to develop our own solution to a problem at hand. Quote from anonymous person who codes for a living: <b>\"Looking stuff up is literally half of my job\"</b>. Beside plotting with MatPlotLib, this section will also focus on this skill.  \n",
    "\n",
    "- We used MatPlotLib to make histograms for the Young People Survey in FA session 6.2, remember? You can practice making your own histograms in the Exercises.\n",
    "\n",
    "- This material is <b>HIGHLY</b> relevant for the #correlation and #dataviz HC's that you will be introduced to next week in FA and EA!\n",
    "\n",
    "</div>"
   ]
  },
  {
   "cell_type": "markdown",
   "metadata": {
    "collapsed": false
   },
   "source": [
    "### Scatter Plot\n",
    "\n",
    "Now, Prince Charming wants to plot his data. To do so, he can use a Python library called \"MatPlotLib\". Anaconda and CoCalc already have this library built in, but if you are using another program, you might have to install MatPlotLib for this next part. \n",
    "\n",
    "Say John wants to test out MatPlotLib before plotting his data for real. He wants to plot the following data points on a plane: (1, 3), (2, 7), (3, 7), (4, 14). To do so, he uses the code below.\n",
    "\n",
    "**Running the cell may not show the graph the first time. This is usually solved by running it a second time**"
   ]
  },
  {
   "cell_type": "code",
   "execution_count": 0,
   "metadata": {
    "colab": {
    },
    "colab_type": "code",
    "collapsed": true,
    "id": "ksNqtqnUSI47",
    "outputId": "dcc76b43-3a8c-4885-b47f-dc34508aa69a"
   },
   "outputs": [
   ],
   "source": [
    "import matplotlib.pyplot as plt\n",
    "\n",
    "xaxis = [1, 2, 3, 4]\n",
    "yaxis = [3, 7, 7, 14]\n",
    "\n",
    "plt.scatter(xaxis, yaxis)\n",
    "plt.show()"
   ]
  },
  {
   "cell_type": "markdown",
   "metadata": {
    "colab_type": "text",
    "collapsed": false,
    "id": "ThrAORDzq_ld"
   },
   "source": [
    "How do we set a title \"My first scatter plot\" for this plot in matplotlib? Googling \"matplotlib set title\" and going to the first link shows us documentation for function `matplotlib.pyplot.title`. Do not be intimidated by the seemingly daunting documentation! You got this!\n",
    "![documentation for plt.title](images/title_documentation.jpg)"
   ]
  },
  {
   "cell_type": "markdown",
   "metadata": {
    "colab_type": "text",
    "collapsed": false,
    "id": "ugBY3ttlq_le"
   },
   "source": [
    "Let us examine the documentation. While the function `matplotlib.pyplot.title` receives many arguments/parameters (`label`,`fondtdict`, etc.), `label` seems to directly address our need: it is **text to use for the title**, and its type is a string (`str`). From this we know that if we want to title our plot \"My first scatter plot\", we just need to give the string \"My first scatter plot\" to the function: `matplotlib.pyplot.title(\"My first scatterplot\")`. And since we shortened `matplotlib.pyplot` to `plt` (what `import matplotlib.pyplot as plt` does), the syntax is simplified to `plt.title(\"My first scatter plot\")`. Let's screate the plot again, this time with a title."
   ]
  },
  {
   "cell_type": "code",
   "execution_count": 0,
   "metadata": {
    "colab": {
    },
    "colab_type": "code",
    "collapsed": true,
    "id": "IoiubIEoq_lf",
    "outputId": "b6d0fe21-d885-4284-f70b-338b33fa80c6"
   },
   "outputs": [
   ],
   "source": [
    "import matplotlib.pyplot as plt\n",
    "\n",
    "xaxis = [1, 2, 3, 4]\n",
    "yaxis = [3, 7, 7, 14]\n",
    "\n",
    "plt.scatter(xaxis, yaxis)\n",
    "plt.title(\"My first scatter plot\")\n",
    "plt.show()"
   ]
  },
  {
   "cell_type": "markdown",
   "metadata": {
    "colab_type": "text",
    "collapsed": false,
    "id": "EfJ7GXJVSI49"
   },
   "source": [
    "Set the labels for both the axes! Google if you don't know how to do so.\n"
   ]
  },
  {
   "cell_type": "markdown",
   "metadata": {
    "colab_type": "text",
    "collapsed": false,
    "id": "ugC8kjj4SI5D"
   },
   "source": [
    "# B.  Exercise"
   ]
  },
  {
   "cell_type": "markdown",
   "metadata": {
    "colab_type": "text",
    "collapsed": false,
    "id": "amV6e_uRSI5D"
   },
   "source": [
    "## Exercise 1. Descriptive Stats for Prince Charming\n",
    "<a id=\"exercise1\"></a>\n",
    "Write a function `mystats` that helps Prince Charming compute the following quantities for his data using NumPy functions. \n",
    "\n",
    "1. length\n",
    "2. mean\n",
    "3. median\n",
    "4. standard deviation  \n",
    "\n",
    "Use this function to compute these quantities for both the **ages** data and the **ice cream** consumption data that we constructed above. Your function should input a column from the data as a list and print these four values. Then call the function to apply it to ages and ice cream.  "
   ]
  },
  {
   "cell_type": "code",
   "execution_count": 0,
   "metadata": {
    "colab": {
    },
    "colab_type": "code",
    "collapsed": true,
    "id": "MOtghfJTSI5E"
   },
   "outputs": [
   ],
   "source": [
    "def mystats(col):\n",
    "    # Your code here\n",
    "    "
   ]
  },
  {
   "cell_type": "code",
   "execution_count": 0,
   "metadata": {
    "collapsed": true
   },
   "outputs": [
   ],
   "source": [
    "#apply your function to John's data"
   ]
  },
  {
   "cell_type": "markdown",
   "metadata": {
    "collapsed": false
   },
   "source": [
    "If you did it right, you should find that the length of each list is 18. The stats for the ages should be (18.0, 17.5, 2.646) and the stats for the ice cream should be (376.0, 380.0, 30.094).\n",
    "\n",
    "**Side note**: The NumPy libarary does not have a function to compute the mode of a list. This is most easily done using another library: SciPy. If you ever need to compute the mode, you can review the code from session 6.2 to see how to use this library. Or, even better, you can use the mode from scratch function that you wrote in SSS4!"
   ]
  },
  {
   "cell_type": "markdown",
   "metadata": {
    "colab_type": "text",
    "collapsed": false,
    "id": "s5rKswi_SI5I"
   },
   "source": [
    "## Exercise 2. Scatter Plot for Prince Charming\n",
    "<a id=\"exercise2\"></a>\n",
    "Using MatPlotLib, plot a scatter plot with age on the $x$ axis, and ice cream consumption on the $y$ axis. Make sure you label the axes and give a title to your plot! (ALWAYS important for strong #dataviz scores)"
   ]
  },
  {
   "cell_type": "code",
   "execution_count": 0,
   "metadata": {
    "colab": {
    },
    "colab_type": "code",
    "collapsed": true,
    "id": "XSuNBaw1SI5J"
   },
   "outputs": [
   ],
   "source": [
    "# Your code here"
   ]
  },
  {
   "cell_type": "markdown",
   "metadata": {
    "colab_type": "text",
    "collapsed": false,
    "id": "tUNzJ8VlSI5K"
   },
   "source": [
    "## Exercise 3. Histogram for Prince Charming\n",
    "<a id=\"exercise3\"></a>\n",
    "Using MatPlotLib, plot a histogram for ice cream consumption. You'll need to Google how to do so. Experiment with the number of bins."
   ]
  },
  {
   "cell_type": "code",
   "execution_count": 0,
   "metadata": {
    "colab": {
    },
    "colab_type": "code",
    "collapsed": true,
    "id": "G0xD0JJkSI5L"
   },
   "outputs": [
   ],
   "source": [
    "# Your code here"
   ]
  },
  {
   "cell_type": "markdown",
   "metadata": {
    "colab_type": "text",
    "collapsed": false,
    "id": "jPHsz4dsq_lu"
   },
   "source": [
    "## Exercise 4. Histograms with Color\n",
    "<a id=\"exercise4\"></a>\n",
    "Set the bars in the histogram you created for exercise 4 to a different color. Google how to do this. How else can you alter your histogram to make it beautiful?"
   ]
  },
  {
   "cell_type": "code",
   "execution_count": 0,
   "metadata": {
    "colab": {
    },
    "colab_type": "code",
    "collapsed": true,
    "id": "jOsdinDAq_lu"
   },
   "outputs": [
   ],
   "source": [
    "# Your code here"
   ]
  },
  {
   "cell_type": "markdown",
   "metadata": {
    "colab_type": "text",
    "collapsed": false,
    "id": "g9BW-GAvq_lx"
   },
   "source": [
    "## [Optional] Exercise 5. Timezone\n",
    "<a id=\"exercise5\"></a>\n",
    "In a clock, there are 12 numbers from 1 to 12. Currently, the hour hand is pointing at 3. There are two actions allowed to affect the hour hand: adjust it forward +x numbers, or backward -x numbers. For example, if you adjust it forward 5 numbers, the hand will point at number 8. If you adjust it backward 5 numbers, the hand will point at number 10. Write a function that takes an integer `x` as input (the sign of `x` indicates the direction of adjustment), and outputs the number the hand will point to after the adjustment.\n"
   ]
  },
  {
   "cell_type": "code",
   "execution_count": 0,
   "metadata": {
    "colab": {
    },
    "colab_type": "code",
    "collapsed": true,
    "id": "TuYHOVbQq_lx"
   },
   "outputs": [
   ],
   "source": [
    "# Your code here"
   ]
  },
  {
   "cell_type": "markdown",
   "metadata": {
    "colab_type": "text",
    "collapsed": false,
    "id": "IbQlRpvSq_ly"
   },
   "source": [
    "## [Optional] Exercise 6. Fibonacci\n",
    "<a id=\"exercise6\"></a>\n",
    "(Adapted from [Project Euler Problem 2](https://projecteuler.net/problem=2))\n",
    "\n",
    "Each new term in the Fibonacci sequence is generated by adding the previous two terms. By starting with 1 and 2, the first 10 terms will be:\n",
    "\n",
    "1, 2, 3, 5, 8, 13, 21, 34, 55, 89, ...\n",
    "\n",
    "Given two positive integers A and B, find the number of Fibonacci numbers between A and B."
   ]
  },
  {
   "cell_type": "code",
   "execution_count": 0,
   "metadata": {
    "colab": {
    },
    "colab_type": "code",
    "collapsed": true,
    "id": "uh_f7xiqq_ly"
   },
   "outputs": [
   ],
   "source": [
    "# Your code here"
   ]
  },
  {
   "cell_type": "markdown",
   "metadata": {
    "colab_type": "text",
    "collapsed": false,
    "id": "S4g2zj8Hq_lz"
   },
   "source": [
    "## [Optional] Exercise 7. Pascal's Triangle\n",
    "<a id=\"exercise7\"></a>\n",
    "Follow [this link](https://en.wikipedia.org/wiki/Pascal%27s_triangle) to know what Pascal's Triangle is. Write a function that receives the row number (a non-negative integer) and outputs the list of numbers in that row.\n",
    "\n",
    "For example,\n",
    "\n",
    "INPUT: `3`\n",
    "\n",
    "OUTPUT: `[1,3,3,1]`"
   ]
  },
  {
   "cell_type": "code",
   "execution_count": 0,
   "metadata": {
    "colab": {
    },
    "colab_type": "code",
    "collapsed": true,
    "id": "B-MaRcQCq_l0"
   },
   "outputs": [
   ],
   "source": [
    "# Your code here"
   ]
  },
  {
   "cell_type": "markdown",
   "metadata": {
    "collapsed": false
   },
   "source": [
    "<blockquote class=\"alert-warning\">\n",
    "     Key Takeaways from Today´s SSS\n",
    "    <small>Libraries are <b>FUN</b> (there are so many: matplotlib, pandas, numpy, and many more🙀) </small>\n",
    "    <small>You can <b>EASILY</b> use all of the libraries learned today as <b>DATA ANALYSIS tools</b></small>\n",
    "    <small>You can also <b>plot</b> the analyzed data using <b>MATPLOTLIB</b></small>\n",
    "    <small>Being able to import <b>CSV files</b> makes your life 3000 easier</small>\n",
    "    </blockquote>"
   ]
  },
  {
   "cell_type": "markdown",
   "metadata": {
    "collapsed": false
   },
   "source": [
    "    <div class=\"alert alert-block alert-success\">\n",
    "<div class=\"col-md-2 col-lg-1 col-xs-6 col-sm-3\"> <img class=\"img-responsive responsive-img\" src=\"https://www.shareicon.net/data/512x512/2016/08/18/813877_snake_512x512.png\" alt=\"...\"></div>\n",
    "<strong>It was wonderful seeing you today! Come to the OH to learn more and chat!</strong>\n",
    "<br> Also, Congrats on completing your SSS6! Do you have any questions or confusion points? Use the cell below to ask any questions, and we will try to address them in the next sessions or during OH.\n",
    "\n",
    "\n",
    "You can be as precise as you want, e.g. 'I did not know why else statement should not be included.'\n",
    "</div>"
   ]
  },
  {
   "cell_type": "markdown",
   "metadata": {
    "collapsed": false
   },
   "source": [
    "Use this cells to leave comments"
   ]
  },
  {
   "cell_type": "markdown",
   "metadata": {
    "collapsed": false
   },
   "source": [
    "<br>\n",
    "\n",
    " <img class=\"img-responsive responsive-img\" src=\"https://www.mememaker.net/api/bucket?path=static/img/memes/full/2015/Dec/9/5/whos-the-best-im-the-best.jpg\" alt=\"...\">\n",
    "\n",
    "<br>"
   ]
  }
 ],
 "metadata": {
  "colab": {
   "collapsed_sections": [
   ],
   "name": "SSS6.ipynb",
   "provenance": [
   ],
   "version": "0.3.2"
  },
  "kernelspec": {
   "display_name": "Python 3 (system-wide)",
   "language": "python",
   "metadata": {
    "cocalc": {
     "description": "Python 3 programming language",
     "priority": 100,
     "url": "https://www.python.org/"
    }
   },
   "name": "python3"
  },
  "language_info": {
   "codemirror_mode": {
    "name": "ipython",
    "version": 3
   },
   "file_extension": ".py",
   "mimetype": "text/x-python",
   "name": "python",
   "nbconvert_exporter": "python",
   "pygments_lexer": "ipython3",
   "version": "3.6.8"
  }
 },
 "nbformat": 4,
 "nbformat_minor": 0
}