{
 "cells": [
  {
   "cell_type": "markdown",
   "metadata": {
    "colab_type": "text",
    "collapsed": false,
    "id": "QUmOM6mBVBL7"
   },
   "source": [
    "# SSS4. All about lists "
   ]
  },
  {
   "cell_type": "markdown",
   "metadata": {
    "colab_type": "text",
    "collapsed": false,
    "id": "-YDT1xO3VBL9"
   },
   "source": [
    "\n",
    "<div class=\"panel panel-success\">\n",
    "  <div class=\"panel-heading\">\n",
    "    <h3 class=\"panel-title\">CONTENTS</h3>\n",
    "  </div>\n",
    "  <div class=\"panel-body\">\n",
    "\n",
    "* **[A. Python Lab](#lab)**\n",
    "    * [1. LISTS](#lis)\n",
    "        * [1.1. Python Built-in methods](#pyt)\n",
    "        * [1.2. Concatenation](#con)\n",
    "        * [1.3. Repetition](#rep)\n",
    "        * [1.4. Indexing](#ind)\n",
    "        * [1.5. Slicing](#sli)\n",
    "    * [2. THE ACCUMULATOR PATTERN](#acc)\n",
    "* **[B. Exercises](#ex)**\n",
    "\n",
    "  </div>\n",
    "</div>\n"
   ]
  },
  {
   "cell_type": "markdown",
   "metadata": {
    "collapsed": false
   },
   "source": [
    "### Hi there! Welcome back!\n",
    "<br> \n",
    "Last three sessions, we learned about lists, (built-in) functions, data types, for loops, conditional statements. Let's wrap up all these concepts and address any remaining confusion around them. You will also learn about other capacities of lists (e.g., slicing), and another magical concept known as **accumulator pattern** that will come handy in many of your future assignments! As always, do not hesitate to approach your peer tutors with any questions and enjoy!\n",
    "\n",
    "***"
   ]
  },
  {
   "cell_type": "markdown",
   "metadata": {
    "colab_type": "text",
    "collapsed": false,
    "id": "Qoe_vjqk05XK"
   },
   "source": [
    "# A. Python Lab\n",
    "<a id=\"lab\"></a>\n",
    "\n"
   ]
  },
  {
   "cell_type": "markdown",
   "metadata": {
    "colab_type": "text",
    "collapsed": false,
    "id": "QW0QmgICVBL-"
   },
   "source": [
    "## 1. LISTS\n",
    "<a id=\"lis\"></a>\n",
    "\n",
    "\n",
    "### 1.1. Python built-in methods \n",
    "<a id=\"pyt\"></a>\n",
    "\n"
   ]
  },
  {
   "cell_type": "markdown",
   "metadata": {
    "colab_type": "text",
    "collapsed": false,
    "id": "-EVGQD4sVBL_"
   },
   "source": [
    "As you may remember from the SSS1, lists are a data type that can store different types of values within square brackets. Recall how we created `my_minerva_classes` list. "
   ]
  },
  {
   "cell_type": "code",
   "execution_count": 1,
   "metadata": {
    "collapsed": false
   },
   "outputs": [
   ],
   "source": [
    "my_minerva_classes = ['CS50', 'SS50', 'NS50', 'AH50']"
   ]
  },
  {
   "cell_type": "markdown",
   "metadata": {
    "collapsed": false
   },
   "source": [
    "Also, we learned how to add an extra element to the list. For instance, we supposed that a new class 'FE50' was added to your schedule. Can you add it to `my_minerva_classes` list?"
   ]
  },
  {
   "cell_type": "code",
   "execution_count": 2,
   "metadata": {
    "collapsed": false
   },
   "outputs": [
   ],
   "source": [
    "#code here to add an extra class 'FE50' to the above created list. "
   ]
  },
  {
   "cell_type": "markdown",
   "metadata": {
    "colab_type": "text",
    "collapsed": false,
    "id": "5jdOxvVhVBMj"
   },
   "source": [
    "Although there are many ways to add an element, we suppose you used _`.append`_ **method** which we learned in SSS1. Methods are commands or processes that you may apply to particular data types. Lists have some very useful methods one of which is _`.append()`_."
   ]
  },
  {
   "cell_type": "markdown",
   "metadata": {
    "colab_type": "text",
    "collapsed": false,
    "id": "AABZfeLoVBMk"
   },
   "source": [
    "There are many other list methods that might be useful for you when solving problems! Below, we have a table with the most important ones. You can experiment with them later on if you have some time left after finishing the session.\n"
   ]
  },
  {
   "cell_type": "markdown",
   "metadata": {
    "collapsed": false
   },
   "source": [
    "<table class=\"table table-striped table-responsive\">\n",
    "    <thead>\n",
    "      <tr>\n",
    "        <th>Method</th>\n",
    "        <th>Parameters</th>\n",
    "        <th>Result</th>\n",
    "          <th>Description</th>\n",
    "      </tr>\n",
    "    </thead>\n",
    "    <tbody>\n",
    "      <tr>\n",
    "        <td>append</td>\n",
    "        <td>item</td>\n",
    "        <td>mutator</td>\n",
    "          <td>adds a new item to the end of a list</td>\n",
    "      </tr>\n",
    "              <tr>\n",
    "        <td>insert</td>\n",
    "        <td>position, item</td>\n",
    "        <td>mutator</td>\n",
    "          <td>inserts a new item at the given position</td>\n",
    "      </tr>\n",
    "      <tr>\n",
    "        <td>pop</td>\n",
    "        <td>none</td>\n",
    "        <td>hybrid</td>\n",
    "          <td>removes and returns the last item</td>\n",
    "      </tr>\n",
    "              <tr>\n",
    "        <td>pop</td>\n",
    "        <td>position</td>\n",
    "        <td>hybrid</td>\n",
    "          <td>removes and returns the item at a position</td>\n",
    "      </tr>\n",
    "              <tr>\n",
    "        <td>sort</td>\n",
    "        <td>none</td>\n",
    "        <td>mutator</td>\n",
    "          <td>modifies a list to be sorted</td>\n",
    "      </tr>\n",
    "              <tr>\n",
    "        <td>...</td>\n",
    "        <td>...</td>\n",
    "        <td>...</td>\n",
    "          <td>...</td>\n",
    "      </tr>\n",
    "  </table>\n",
    "    "
   ]
  },
  {
   "cell_type": "markdown",
   "metadata": {
    "collapsed": false
   },
   "source": [
    "<div class=\"alert alert-block alert-success\">\n",
    "<div class=\"col-md-2 col-lg-1 col-xs-6 col-sm-3\"> <img class=\"img-responsive responsive-img\" src=\"https://www.shareicon.net/data/512x512/2016/08/18/813877_snake_512x512.png\" alt=\"...\"></div>\n",
    "    <strong>SSSsss-tip:\n",
    "    </strong>\n",
    "    <br>Remember you can always use <b>TAB</b> after the dot of your list to see all the possible methods use can use with it! See below!</br>\n",
    "\n",
    "</div>"
   ]
  },
  {
   "cell_type": "code",
   "execution_count": 0,
   "metadata": {
    "collapsed": false
   },
   "outputs": [
   ],
   "source": [
    "my_minerva_classes.\n",
    "#click TAB after a dot"
   ]
  },
  {
   "cell_type": "markdown",
   "metadata": {
    "colab_type": "text",
    "collapsed": false,
    "id": "ztkRkHZWVBMS"
   },
   "source": [
    "### 1.2. Concatenation\n",
    "<a id=\"con\"></a>\n",
    "\n",
    "\n",
    "\n",
    "The concept of concatenation is simple yet useful! It consists of using the \"+\" operator to join two lists together. For instance, lets say list_1 = [1, 2, 3] and list_2 = [4, 5, 6]. Use the code box below to find out what happens if we print list_1 + list_2!"
   ]
  },
  {
   "cell_type": "code",
   "execution_count": 0,
   "metadata": {
    "colab": {
    },
    "colab_type": "code",
    "collapsed": true,
    "id": "J4W5aF4wVBMS"
   },
   "outputs": [
   ],
   "source": [
    "list_1 = [1, 2, 3]\n",
    "list_2 = [4, 5, 6]\n",
    "print() #type in (list_1 + list_2) within the print statement and see what happens!"
   ]
  },
  {
   "cell_type": "markdown",
   "metadata": {
    "colab_type": "text",
    "collapsed": false,
    "id": "9vmyZoIgVBMU"
   },
   "source": [
    " Note that, when using concatenation, the order in which you concatenate matters. For instance, [1, 2, 3] + [4, 5, 6] is **NOT** equal to [4, 5, 6] + [1, 2, 3]. Run the cell below to see for yourself!"
   ]
  },
  {
   "cell_type": "code",
   "execution_count": 2,
   "metadata": {
    "colab": {
    },
    "colab_type": "code",
    "collapsed": false,
    "id": "oS4bEHu_VBMU"
   },
   "outputs": [
    {
     "name": "stdout",
     "output_type": "stream",
     "text": [
      "[1, 2, 3, 4, 5, 6]\n",
      "[4, 5, 6, 1, 2, 3]\n",
      "False\n"
     ]
    }
   ],
   "source": [
    "big_list_1 = [1, 2, 3] + [4, 5, 6]\n",
    "big_list_2 = [4, 5, 6] + [1, 2, 3]\n",
    "print(big_list_1)\n",
    "print(big_list_2)\n",
    "print(big_list_1==big_list_2)"
   ]
  },
  {
   "cell_type": "markdown",
   "metadata": {
    "colab_type": "text",
    "collapsed": false,
    "id": "nfmJKENNVBMV"
   },
   "source": [
    "Concatenation is very useful when we want to keep adding new elements to a list. Suppose we had an empty list, [], and we wanted to add the string \"cat\" to it 10 times. We could do so using the \"accumulator pattern\" and concatenation. See the code below!"
   ]
  },
  {
   "cell_type": "code",
   "execution_count": 3,
   "metadata": {
    "colab": {
    },
    "colab_type": "code",
    "collapsed": false,
    "id": "TczkS0FJVBMV"
   },
   "outputs": [
    {
     "name": "stdout",
     "output_type": "stream",
     "text": [
      "['cat', 'cat', 'cat', 'cat', 'cat', 'cat', 'cat', 'cat', 'cat', 'cat']\n"
     ]
    }
   ],
   "source": [
    "lst = []\n",
    "\n",
    "for i in range (10):\n",
    "    lst = lst + [\"cat\"] \n",
    "#note that the string cat is within a list: concatenation only works between two lists, \n",
    "#concatenating just \"cat\" would return an error\n",
    "\n",
    "print(lst)"
   ]
  },
  {
   "cell_type": "markdown",
   "metadata": {
    "collapsed": false
   },
   "source": [
    "So, as you may have noticed, you can add an extra element not just by using `append()` method! There are many ways (aka #algorithms) to solve a given problem, but not all of them are **algorithmically efficient**. Indeed, a goal for computer scientists is to find and create the 'best' algorithm. \n",
    "\n",
    "Well,  what is the 'best' you would ask? It depends on the main objective of the task that needs to be optimized (you will learn more about it in the 2nd semester with #optimization unit! Stay tuned for it!)\n",
    "<br>\n",
    "\n",
    " <img class=\"img-responsive responsive-img\" src=\"https://miro.medium.com/max/630/1*bPHK3V9y1EZnr6z5ZiIncQ.jpeg\" alt=\"...\">\n",
    "\n",
    "<br>\n"
   ]
  },
  {
   "cell_type": "markdown",
   "metadata": {
    "colab_type": "text",
    "collapsed": false,
    "id": "9jANoOgf05Xk"
   },
   "source": [
    "Concatenation also applies to strings. The following code concatenates two strings using the same technique."
   ]
  },
  {
   "cell_type": "code",
   "execution_count": 0,
   "metadata": {
    "colab": {
    },
    "colab_type": "code",
    "collapsed": false,
    "id": "WAb1IGAa05Xl",
    "outputId": "a0bfe1d7-7053-4fb1-b814-e93a92053df7"
   },
   "outputs": [
    {
     "name": "stdout",
     "output_type": "stream",
     "text": [
      "Minerva\n"
     ]
    }
   ],
   "source": [
    "print('Miner'+'va')"
   ]
  },
  {
   "cell_type": "markdown",
   "metadata": {
    "colab_type": "text",
    "collapsed": false,
    "id": "RotOFdBR05Xn"
   },
   "source": [
    "Your task now is to negate the statement A, given below, by appending \"It is not that\" before it."
   ]
  },
  {
   "cell_type": "code",
   "execution_count": 0,
   "metadata": {
    "colab": {
    },
    "colab_type": "code",
    "collapsed": true,
    "id": "1AIQHBIC05Xn"
   },
   "outputs": [
   ],
   "source": [
    "A = \"Everything is intentional here\"\n",
    "B = \n",
    "print(B) # this should print \"It is not that Everything is intentional here\""
   ]
  },
  {
   "cell_type": "markdown",
   "metadata": {
    "colab_type": "text",
    "collapsed": false,
    "id": "G9OoAFI1VBMX"
   },
   "source": [
    "### 1.3. Repetition\n",
    "<a id=\"rep\"></a>\n",
    "\n",
    "\n",
    "\n",
    "What will happen if we put * instead of +? Test it out in the cell below! "
   ]
  },
  {
   "cell_type": "code",
   "execution_count": 0,
   "metadata": {
    "colab": {
    },
    "colab_type": "code",
    "collapsed": true,
    "id": "WuwKMfP8VBMX"
   },
   "outputs": [
   ],
   "source": [
    "lst = [1, 2, 3]\n",
    "print(lst*3)"
   ]
  },
  {
   "cell_type": "markdown",
   "metadata": {
    "colab_type": "text",
    "collapsed": false,
    "id": "wn4OKoiGVBMZ"
   },
   "source": [
    "The above \"repetition\" command concatenates the list you have to itself _n_ times, n being the number next to the * operator. Try it out yourself: print the list below, repeated 6 times!"
   ]
  },
  {
   "cell_type": "code",
   "execution_count": 0,
   "metadata": {
    "colab": {
    },
    "colab_type": "code",
    "collapsed": true,
    "id": "IRNzw_nsVBMZ"
   },
   "outputs": [
   ],
   "source": [
    "lst = [\"boots\", \"and\", \"cats\", \"and\"]\n",
    "#your code here"
   ]
  },
  {
   "cell_type": "markdown",
   "metadata": {
    "colab_type": "text",
    "collapsed": false,
    "id": "y63QXJ_eVBMI"
   },
   "source": [
    "### 1.4. Indexing\n",
    "<a id=\"ind\"></a>\n",
    "\n",
    "\n",
    "\n",
    "There are very convenient ways to access elements in a list. First, it is essential to know that every item within a list has **an index,** **starting from 0** for the first element (from left to right) and going on up to the last element.\n",
    "\n",
    "Suppose we had the list: [\"banana\", \"cat\", 3.14, 1]. The image below shows the elements within our list, and their corresponding indexes:\n",
    "\n",
    "  <table class=\"table table-striped table-responsive\">\n",
    "    <thead>\n",
    "      <tr>\n",
    "        <th>Element</th>\n",
    "        <th>'banana'</th>\n",
    "        <th>'cat'</th>\n",
    "          <th>3.14</th>\n",
    "          <th>1</th>\n",
    "      </tr>\n",
    "    </thead>\n",
    "    <tbody>\n",
    "      <tr>\n",
    "        <td>index</td>\n",
    "        <td>0</td>\n",
    "        <td>1</td>\n",
    "          <td>2</td>\n",
    "          <td>3</td>\n",
    "      </tr>\n",
    "\n",
    "\n",
    "  </table>\n",
    "    \n",
    "\n",
    "Now, let's say our list is called `lst`. From this list, we want to access the second element in the list, \"cat\" (remember, the \"second element\" has index 1, since python starts counting from 0), and set variable **A** to that \n",
    "\n",
    "To access the second element, we would use the syntax shown below:"
   ]
  },
  {
   "cell_type": "markdown",
   "metadata": {
    "colab_type": "text",
    "collapsed": false,
    "id": "9ZwsncI9VBML"
   },
   "source": [
    "Now try it yourself! Go ahead and set variable **B** below to the third element in the list (3.14). Dont forget to run the cell and print B, to make sure you succeeded!"
   ]
  },
  {
   "cell_type": "code",
   "execution_count": 0,
   "metadata": {
    "colab": {
    },
    "colab_type": "code",
    "collapsed": false,
    "id": "gdBj06p_VBMJ",
    "outputId": "5f3704fe-f22f-4a11-bd39-bb9452847f1b"
   },
   "outputs": [
    {
     "name": "stdout",
     "output_type": "stream",
     "text": [
      "cat\n"
     ]
    }
   ],
   "source": [
    "lst = [\"banana\", \"cat\", 3.14, 1]\n",
    "A = lst[1]\n",
    "print(A)"
   ]
  },
  {
   "cell_type": "code",
   "execution_count": 0,
   "metadata": {
    "colab": {
    },
    "colab_type": "code",
    "collapsed": true,
    "id": "AysEnhyQVBML"
   },
   "outputs": [
   ],
   "source": [
    "lst = [\"banana\", \"cat\", 3.14, 1]\n",
    "B = \n",
    "print(B)"
   ]
  },
  {
   "cell_type": "markdown",
   "metadata": {
    "colab_type": "text",
    "collapsed": false,
    "id": "VSXvOPTDVBMN"
   },
   "source": [
    "Another neat trick you can use to select an element within a list is to use negative indexes. The last element within a list (from left to right) can be accessed using the index \"-1\" in addition to the positive index it corresponds to. The second to last element can be accessed using the index \"-2\", and so on. The table below shows how the elements in our list can be accessed using their negative indexes as well:\n",
    "  <table class=\"table table-striped table-responsive\">\n",
    "    <thead>\n",
    "      <tr>\n",
    "        <th>Element</th>\n",
    "        <th>'banana'</th>\n",
    "        <th>'cat'</th>\n",
    "          <th>3.14</th>\n",
    "          <th>1</th>\n",
    "      </tr>\n",
    "    </thead>\n",
    "    <tbody>\n",
    "      <tr>\n",
    "        <td>index</td>\n",
    "        <td>0</td>\n",
    "        <td>1</td>\n",
    "          <td>2</td>\n",
    "          <td>3</td>\n",
    "      </tr>\n",
    "      <tr>\n",
    "        <td>negative index</td>\n",
    "        <td>-4</td>\n",
    "        <td>-3</td>\n",
    "          <td>-2</td>\n",
    "          <td>-1</td>\n",
    "      </tr>\n",
    "\n",
    "  </table>\n",
    "    \n",
    "\n",
    "\n",
    "\n",
    "Now, to practice accessing elements, your task is to access the \"cat\" element within lst using both its positive and negative indices. Set A to the component accessed using the positive index, and B to the component accessed using the negative index. Then, use an if/else statement to print TRUE if A and B are the same, and FALSE otherwise."
   ]
  },
  {
   "cell_type": "code",
   "execution_count": 0,
   "metadata": {
    "colab": {
    },
    "colab_type": "code",
    "collapsed": true,
    "id": "wcOPnQZeVBMO"
   },
   "outputs": [
   ],
   "source": [
    "lst = [\"banana\", \"cat\", 3.14, 1]\n",
    "A = \n",
    "B = \n",
    "\n",
    "if #complete the if statement here!"
   ]
  },
  {
   "cell_type": "markdown",
   "metadata": {
    "colab_type": "text",
    "collapsed": false,
    "id": "j6XuVgNP05Xc"
   },
   "source": [
    "Can you guess why the following code throws an error? This is one common error when coding using the `list` data type in Python. Then, proceed to fix the error so that the code prints out the very nice motto. Hint: * What does the error message say? What line seems to have problems?* "
   ]
  },
  {
   "cell_type": "code",
   "execution_count": 6,
   "metadata": {
    "colab": {
    },
    "colab_type": "code",
    "collapsed": false,
    "id": "sBwYEc9305Xc"
   },
   "outputs": [
    {
     "ename": "IndexError",
     "evalue": "list index out of range",
     "output_type": "error",
     "traceback": [
      "\u001b[0;31m---------------------------------------------------------------------------\u001b[0m",
      "\u001b[0;31mIndexError\u001b[0m                                Traceback (most recent call last)",
      "\u001b[0;32m<ipython-input-6-e072416d527f>\u001b[0m in \u001b[0;36m<module>\u001b[0;34m()\u001b[0m\n\u001b[1;32m      2\u001b[0m \u001b[0msentence\u001b[0m \u001b[0;34m=\u001b[0m \u001b[0;34m''\u001b[0m\u001b[0;34m\u001b[0m\u001b[0;34m\u001b[0m\u001b[0m\n\u001b[1;32m      3\u001b[0m \u001b[0;32mfor\u001b[0m \u001b[0mi\u001b[0m \u001b[0;32min\u001b[0m \u001b[0mrange\u001b[0m\u001b[0;34m(\u001b[0m\u001b[0;36m10\u001b[0m\u001b[0;34m)\u001b[0m\u001b[0;34m:\u001b[0m\u001b[0;34m\u001b[0m\u001b[0;34m\u001b[0m\u001b[0m\n\u001b[0;32m----> 4\u001b[0;31m     \u001b[0msentence\u001b[0m \u001b[0;34m=\u001b[0m \u001b[0msentence\u001b[0m \u001b[0;34m+\u001b[0m \u001b[0mA\u001b[0m\u001b[0;34m[\u001b[0m\u001b[0mi\u001b[0m\u001b[0;34m]\u001b[0m \u001b[0;34m+\u001b[0m \u001b[0;34m' '\u001b[0m\u001b[0;34m\u001b[0m\u001b[0;34m\u001b[0m\u001b[0m\n\u001b[0m\u001b[1;32m      5\u001b[0m \u001b[0mprint\u001b[0m\u001b[0;34m(\u001b[0m\u001b[0msentence\u001b[0m\u001b[0;34m)\u001b[0m\u001b[0;34m\u001b[0m\u001b[0;34m\u001b[0m\u001b[0m\n",
      "\u001b[0;31mIndexError\u001b[0m: list index out of range"
     ]
    }
   ],
   "source": [
    "A = [\"everything\", \"is\", \"intentional\", \"here\"]\n",
    "sentence = ''\n",
    "for i in range(10):\n",
    "    sentence = sentence + A[i] + ' '\n",
    "print(sentence)"
   ]
  },
  {
   "cell_type": "markdown",
   "metadata": {
    "colab_type": "text",
    "collapsed": false,
    "id": "Rzb7VBJjVBMP"
   },
   "source": [
    "Finally, using indexes, we can also mutate the list as we wish! See the example below, follow the code carefully:"
   ]
  },
  {
   "cell_type": "code",
   "execution_count": 0,
   "metadata": {
    "colab": {
    },
    "colab_type": "code",
    "collapsed": true,
    "id": "Tzd8TTZWVBMQ"
   },
   "outputs": [
   ],
   "source": [
    "lst = [\"banana\", \"cat\", 3.14, 1]\n",
    "lst[1] = \"dog\"\n",
    "print(lst)"
   ]
  },
  {
   "cell_type": "markdown",
   "metadata": {
    "colab_type": "text",
    "collapsed": false,
    "id": "f9uy_NnSVBMR"
   },
   "source": [
    "See what happened? We used the `lst[1]` command to access a particular element within the list, and using the \"=\" operator we replaced the original element with a new element. This process is called **\"mutating\"** a list."
   ]
  },
  {
   "cell_type": "markdown",
   "metadata": {
    "colab_type": "text",
    "collapsed": false,
    "id": "URh7wc3uVBMa"
   },
   "source": [
    "### 1.5. Slicing\n",
    "<a id=\"sli\"></a>\n",
    "\n",
    "\n",
    "\n",
    "Now, let us say that you have a list [1, 2, 3, 4, 5, 6]. However, you want to have a list with only the first three elements. There is a particular way to make that selection!\n",
    "\n",
    "Remember when we accessed a single element within a list? We will use a similar command to select a subsection, a slice, of a list. It is entirely the same as slicing strings. See below how the operator works:\n"
   ]
  },
  {
   "cell_type": "code",
   "execution_count": 4,
   "metadata": {
    "colab": {
    },
    "colab_type": "code",
    "collapsed": false,
    "id": "ZRgjHKbAVBMb"
   },
   "outputs": [
    {
     "name": "stdout",
     "output_type": "stream",
     "text": [
      "[1, 2, 3, 4, 5, 6]\n",
      "[1, 2, 3]\n"
     ]
    }
   ],
   "source": [
    "lst = [1, 2, 3, 4, 5, 6]\n",
    "#remember: we want the first three elements!\n",
    "lst_slice = lst[0:3] # extract lst[0], lst[1], lst[2], but not lst[3].\n",
    "print(lst)\n",
    "print(lst_slice)"
   ]
  },
  {
   "cell_type": "markdown",
   "metadata": {
    "colab_type": "text",
    "collapsed": false,
    "id": "Bc_yVTqlVBMc"
   },
   "source": [
    "List slices are also handy when we want to \"clone\" a list. What does \"cloning\" a list mean, you may ask? Well, it is making a copy of a list, of course!\n",
    "\n",
    "Say we have list A = [1, 2, 3, 4, 5, 6]. What if we don't want this list: we want a list whose last element is 7 instead? We could certainly \"mutate\" the original list, but what if we want to keep the original as is, and have a second version of that list that is a little different? For this, we create a clone of the original and **mutate the clone** rather than the original.\n",
    "\n",
    "To clone a list, we \"take a slice\" of the whole list! To clone A, and call our clone B, we would use the command below:"
   ]
  },
  {
   "cell_type": "code",
   "execution_count": 7,
   "metadata": {
    "colab": {
    },
    "colab_type": "code",
    "collapsed": false,
    "id": "3ANmLF9SVBMd"
   },
   "outputs": [
    {
     "name": "stdout",
     "output_type": "stream",
     "text": [
      "List A is: [1, 2, 3, 4, 5, 6]\n",
      "List B is: [1, 2, 3, 4, 5, 6]\n"
     ]
    }
   ],
   "source": [
    "A = [1, 2, 3, 4, 5, 6]\n",
    "B = A[:]\n",
    "print(\"List A is:\", A)\n",
    "print(\"List B is:\", B)"
   ]
  },
  {
   "cell_type": "markdown",
   "metadata": {
    "colab_type": "text",
    "collapsed": false,
    "id": "j4WQOHGXVBMe"
   },
   "source": [
    "Now, we can mutate list B without mutating list A:"
   ]
  },
  {
   "cell_type": "code",
   "execution_count": 10,
   "metadata": {
    "colab": {
    },
    "colab_type": "code",
    "collapsed": false,
    "id": "InXw31I0VBMe"
   },
   "outputs": [
    {
     "name": "stdout",
     "output_type": "stream",
     "text": [
      "List A is: [1, 2, 3, 4, 5, 6]\n",
      "List B is: [1, 2, 3, 4, 5, 7]\n"
     ]
    }
   ],
   "source": [
    "A = [1, 2, 3, 4, 5, 6]\n",
    "B = A[:]\n",
    "B[-1] = 7\n",
    "print(\"List A is:\", A)\n",
    "print(\"List B is:\", B)"
   ]
  },
  {
   "cell_type": "markdown",
   "metadata": {
    "colab_type": "text",
    "collapsed": false,
    "id": "wwXM-sItVBMg"
   },
   "source": [
    "Can you guess what would have happened if, instead of using the B = A[:] slice command, we had used a B = A command? See below for the results!"
   ]
  },
  {
   "cell_type": "code",
   "execution_count": 11,
   "metadata": {
    "colab": {
    },
    "colab_type": "code",
    "collapsed": false,
    "id": "vSTBRM_mVBMg"
   },
   "outputs": [
    {
     "name": "stdout",
     "output_type": "stream",
     "text": [
      "List A is: [1, 2, 3, 4, 5, 7]\n",
      "List B is: [1, 2, 3, 4, 5, 7]\n"
     ]
    }
   ],
   "source": [
    "A = [1, 2, 3, 4, 5, 6]\n",
    "B = A\n",
    "B[-1] = 7\n",
    "print(\"List A is:\", A)\n",
    "print(\"List B is:\", B)"
   ]
  },
  {
   "cell_type": "markdown",
   "metadata": {
    "colab_type": "text",
    "collapsed": false,
    "id": "FgbNMmYoVBMi"
   },
   "source": [
    "As you can see, if you use B = A, the lists are linked! If you change one, you will change the other!\n",
    "<img class=\"img-responsive responsive-img\" src=\"https://encrypted-tbn0.gstatic.com/images?q=tbn:ANd9GcRalL8FtZSdZZEjKNVYYeoAYMV-FyWh7RDOH2hwz2v_gk2cCcb-\" alt=\"...\">\n",
    "\n",
    "***"
   ]
  },
  {
   "cell_type": "markdown",
   "metadata": {
    "collapsed": false
   },
   "source": [
    "## 2. ACCUMULATOR PATTERN\n",
    "<a id=\"acc\"></a>\n",
    "\n"
   ]
  },
  {
   "cell_type": "markdown",
   "metadata": {
    "collapsed": false
   },
   "source": [
    "Think of one simple math problem: multiplying 2 numbers. How exactly is this happening? Probably, the most basic approach is to think of it as repeating the process of adding one number to itself a certain number of times. So $4 * 3 = 4 + 4 + 4 $. \n",
    "\n",
    "Do computation of $2 * 5$ by hand first and try to isolate _exactly what steps you take._ You’ll find you need to keep some “running total” of the sum so far, either on a piece of paper or in your head. To replicate this process in code, we will need some variable to remember the “running total.” It should be initialized with a value of zero. Then, we need to update the “running total” the correct number of times. For each repetition, we’ll want to update the running total by adding the number to it.\n",
    "\n",
    "A common pattern in a loop is to initialize a variable outside the loop and update it during each iteration (or some of the iterations)\n",
    "<br> \n",
    "If you want to learn more follow [this link](https://runestone.academy/runestone/static/PythonSummerPrep/Functions/TheAccumulatorPattern.html). \n",
    "\n",
    "In code, this would look like this: \n",
    "<br>\n"
   ]
  },
  {
   "cell_type": "code",
   "execution_count": 8,
   "metadata": {
    "collapsed": false
   },
   "outputs": [
    {
     "data": {
      "text/plain": [
       "10"
      ]
     },
     "execution_count": 8,
     "metadata": {
     },
     "output_type": "execute_result"
    }
   ],
   "source": [
    "def multiply(x, y):\n",
    "    runningtotal = 0\n",
    "    for counter in range(y):\n",
    "        runningtotal = runningtotal + x\n",
    "\n",
    "    return runningtotal\n",
    "multiply(2,5)"
   ]
  },
  {
   "cell_type": "markdown",
   "metadata": {
    "collapsed": false
   },
   "source": [
    "Notice that `running total` starts with 0 and is being updated every time it goes through the loop. This **iteration** is performed _y_ number of times.\n"
   ]
  },
  {
   "cell_type": "markdown",
   "metadata": {
    "collapsed": false
   },
   "source": [
    "What if you needed to count a number of cats in a given list? Finish the code to do it!  "
   ]
  },
  {
   "cell_type": "code",
   "execution_count": 1,
   "metadata": {
    "collapsed": false
   },
   "outputs": [
    {
     "ename": "SyntaxError",
     "evalue": "invalid syntax (<ipython-input-1-70e6d91f1548>, line 3)",
     "output_type": "error",
     "traceback": [
      "\u001b[0;36m  File \u001b[0;32m\"<ipython-input-1-70e6d91f1548>\"\u001b[0;36m, line \u001b[0;32m3\u001b[0m\n\u001b[0;31m    for #your code to start iteration\u001b[0m\n\u001b[0m                                     ^\u001b[0m\n\u001b[0;31mSyntaxError\u001b[0m\u001b[0;31m:\u001b[0m invalid syntax\n"
     ]
    }
   ],
   "source": [
    "animals = ['cat', 'dog','cat', 'cat', 'dog']\n",
    "\n",
    "for #your code to start iteration\n",
    "    cats = 0\n",
    "    \n",
    "    return cats\n",
    "   "
   ]
  },
  {
   "cell_type": "markdown",
   "metadata": {
    "colab_type": "text",
    "collapsed": false,
    "id": "uIh6Z1Gw05X9"
   },
   "source": [
    "# B. Exercise\n",
    "<a id=\"ex\"></a>\n",
    "\n"
   ]
  },
  {
   "cell_type": "markdown",
   "metadata": {
    "colab_type": "text",
    "collapsed": false,
    "id": "KFD74wbx05YC"
   },
   "source": [
    "## Exercise 1. Count from Scratch\n",
    "\n",
    "In Python, `count` is a built-in function to count the number of occurences of an element in a list. The cell below will print the number of times the number 5 appears in list `A`:"
   ]
  },
  {
   "cell_type": "code",
   "execution_count": 0,
   "metadata": {
    "colab": {
    },
    "colab_type": "code",
    "collapsed": false,
    "id": "CNsJaa0R05YC",
    "outputId": "df320442-3be1-4380-e47b-64dcb58a4a9d"
   },
   "outputs": [
    {
     "name": "stdout",
     "output_type": "stream",
     "text": [
      "3\n"
     ]
    }
   ],
   "source": [
    "A = [5,4,3,5,6,3,5]\n",
    "print(A.count(5))"
   ]
  },
  {
   "cell_type": "markdown",
   "metadata": {
    "colab_type": "text",
    "collapsed": false,
    "id": "0E9jBBZk05YE"
   },
   "source": [
    "But we can definitely build a function on our own that could do such jobs! Write a function that inputs a list and a value, `my_count(lst,val)`, and counts the number of occurences of the value (`val`) in the list (`lst`). Make sure to compare what your function returns with that of the built-in function.  "
   ]
  },
  {
   "cell_type": "code",
   "execution_count": 0,
   "metadata": {
    "colab": {
    },
    "colab_type": "code",
    "collapsed": true,
    "id": "ppg2uBrO05YE"
   },
   "outputs": [
   ],
   "source": [
    "# Your code here"
   ]
  },
  {
   "cell_type": "markdown",
   "metadata": {
    "colab_type": "text",
    "collapsed": false,
    "id": "jqJo5V1C05X9"
   },
   "source": [
    "## Exercise 2. Truth Table\n",
    "\n",
    "The truth table for evaluating `(P  and  Q)  or  P` is given below:\n",
    "\n",
    "Row no. | P | Q | P and Q | (P and Q) or P \n",
    "--- | --- | --- | --- | ---\n",
    "1 | T | T | T | T \n",
    "2 | T | F | F | T\n",
    "3 | F | T | F | F\n",
    "4 | F | F | F | F\n",
    "\n",
    "A Python list can represent each row in the table above. For example, the list `[True, False, False, True]` can be used to describe the second row. \n",
    "Our task is to fill in the 2 missing values of such lists if the first two values are known. For example, if A = `[True, False]` is intended to represent part of the second row (just the truth values for P and Q), it has two missing values at the end, `False` and `True`. Write a function that takes a two-element list as arguments and returns a complete list that represents a row in the table."
   ]
  },
  {
   "cell_type": "code",
   "execution_count": 0,
   "metadata": {
    "colab": {
    },
    "colab_type": "code",
    "collapsed": true,
    "id": "M6QO_GyO05X-"
   },
   "outputs": [
   ],
   "source": [
    "# Your code here"
   ]
  },
  {
   "cell_type": "markdown",
   "metadata": {
    "colab_type": "text",
    "collapsed": false,
    "id": "rxUgJV_S05YF"
   },
   "source": [
    "## Exercise 3. Mode from Scratch\n",
    "\n",
    "From Wikipedia: \"The mode of a set of data values is the value that appears most often\". For example, the mode of [3,1,4,4,1,1,1,1,2] is 1 since 1 is the most common value (appearing 5 times). Write a function that finds **a** mode of a given list of numbers. You may find the function you created in the counting exercise above helpful."
   ]
  },
  {
   "cell_type": "code",
   "execution_count": 0,
   "metadata": {
    "colab": {
    },
    "colab_type": "code",
    "collapsed": true,
    "id": "5NTYbRhE05YF"
   },
   "outputs": [
   ],
   "source": [
    "# Your code here"
   ]
  },
  {
   "cell_type": "markdown",
   "metadata": {
    "colab_type": "text",
    "collapsed": false,
    "id": "ploAgfx005X-"
   },
   "source": [
    "## Exercise 4. Modus Tollens Evaluator\n",
    "\n",
    "Recall that if an argument is valid by modus ponens, it takes the form:\n",
    "\n",
    "1. $P\\rightarrow Q$ (premise)\n",
    "2. $P$ (premise)\n",
    "3. $Q$ (conclusion)\n",
    "\n",
    "And if an argument is valid by modus tollens, it takes the form:\n",
    "\n",
    "1. $P\\rightarrow Q$ (premise)\n",
    "2. $\\neg Q$ (premise)\n",
    "3. $\\neg P$ (conclusion)\n",
    "\n",
    "Recall that in FA class session 3.1, we created a function that evaluates whether or not an argument is valid by modus ponens. One such function is provided below:"
   ]
  },
  {
   "cell_type": "code",
   "execution_count": 0,
   "metadata": {
    "colab": {
    },
    "colab_type": "code",
    "collapsed": false,
    "id": "vo3Nswqc05X_",
    "outputId": "695f323e-d0fe-42ac-e527-ea5a8053d8bf"
   },
   "outputs": [
    {
     "name": "stdout",
     "output_type": "stream",
     "text": [
      "Not valid by modus ponens\n"
     ]
    }
   ],
   "source": [
    "def modus_ponens_evaluator(p1_1, p1_2, p2, c):\n",
    "    if p1_1==p2 and p1_2==c:\n",
    "        return(\"Valid by modus ponens\")\n",
    "    else:\n",
    "        return(\"Not valid by modus ponens\")\n",
    "\n",
    "p1_1 = \"one attends the school\"\n",
    "p1_2 = \"one will become a leader\"\n",
    "p2 = \"one attends the school\"\n",
    "c = \"one will not become a leader\"\n",
    "\n",
    "print(modus_ponens_evaluator(p1_1, p1_2, p2, c))"
   ]
  },
  {
   "cell_type": "markdown",
   "metadata": {
    "colab_type": "text",
    "collapsed": false,
    "id": "pIZQh0RK05YA"
   },
   "source": [
    "Create a function (`modus_tollens_evaluator`) that evaluates whether or not an argument is valid by modus tollens. The test at the end of the following cell should print `True`."
   ]
  },
  {
   "cell_type": "code",
   "execution_count": 0,
   "metadata": {
    "colab": {
    },
    "colab_type": "code",
    "collapsed": true,
    "id": "XLG4gKq405YB"
   },
   "outputs": [
   ],
   "source": [
    "def modus_tollens_evaluator(p1_1, p1_2, p2, c):\n",
    "    # fill in here\n",
    "\n",
    "    \n",
    "    \n",
    "    \n",
    "    \n",
    "    \n",
    "    # end of your code\n",
    "p1_1 = \"one attends the school\"\n",
    "p1_2 = \"one will become a leader\"\n",
    "p2 = \"it is not the case that one will become a leader\"\n",
    "c = \"it is not the case that one attends the school\"\n",
    "print(modus_tollens_evaluator(p1_1, p1_2, p2, c))"
   ]
  },
  {
   "cell_type": "markdown",
   "metadata": {
    "colab_type": "text",
    "collapsed": false,
    "id": "NBxp4t3C05YG"
   },
   "source": [
    "##  Exercise 5. Longest Homogeneous Sublist\n",
    "\n",
    "Given a list, find a longest sublist whose elements are the same. For example, given the list `[1,2,3,2,2,4,5,5,5,5,2,2]` your function should return [5,5,5,5]. Note that this is different than the mode!"
   ]
  },
  {
   "cell_type": "markdown",
   "metadata": {
    "collapsed": false
   },
   "source": [
    "## Exercise 6.\n",
    "Write a  function sumTo(n) that returns the sum of all integer numbers up to and including n. So sumTo(10) would be 1+2+3...+10 which would return the value 55."
   ]
  },
  {
   "cell_type": "code",
   "execution_count": 0,
   "metadata": {
    "colab": {
    },
    "colab_type": "code",
    "collapsed": true,
    "id": "2no_NZn705YG"
   },
   "outputs": [
   ],
   "source": [
    "# Your code here"
   ]
  },
  {
   "cell_type": "markdown",
   "metadata": {
    "colab_type": "text",
    "collapsed": false,
    "id": "EeCQWFai05YH"
   },
   "source": [
    "## Exercise 7. List Overlap\n",
    "\n",
    "(Adapted from [Practice Python](https://www.practicepython.org/exercise/2014/03/05/05-list-overlap.html))\n",
    "\n",
    "Given two lists containing distinct elements (no duplicates within each list), return a list containing elements that are common between the lists."
   ]
  },
  {
   "cell_type": "code",
   "execution_count": 0,
   "metadata": {
    "colab": {
    },
    "colab_type": "code",
    "collapsed": true,
    "id": "TPWTd75105YH"
   },
   "outputs": [
   ],
   "source": [
    "# Your code here"
   ]
  },
  {
   "cell_type": "markdown",
   "metadata": {
    "colab_type": "text",
    "collapsed": false,
    "id": "5I4fuch-05YI"
   },
   "source": [
    "## Exercise 8. Maximum Subarray\n",
    "Given a list of numbers, find a subarray that has the largest sum of its elements. For example, given the list [-1,2,4,-3,5,-2] your function should return [2,4,-3,5]"
   ]
  },
  {
   "cell_type": "markdown",
   "metadata": {
    "collapsed": false
   },
   "source": [
    "<blockquote class=\"alert-warning\">\n",
    "     Key Takeaways from Today´s SSS\n",
    "    <small>Pyhton has many built-in methods for various datatypes. For instance, <b>append()</b> for lists</small>\n",
    "    <small>you can <b>concatenate</b> two lists by using + sign between them</small>\n",
    "    <small>you can use * to <b> repeat a list itself</b>  certain number of times</small>\n",
    "    <small>Indexing (and counting in general) <b> starts from 0</b>  in Python</small>\n",
    "    <small>To access an element of the list you can use <b> both negative and positive indexing</b>  by specifying index in square brackets after the list name. For instance, <b> my_minerva_classes[INDEX]</b></small>\n",
    "    <small><b>Accumulator pattern</b> is used to initiate counting that will be updated later on</small>\n",
    "    </blockquote>"
   ]
  },
  {
   "cell_type": "markdown",
   "metadata": {
    "collapsed": false
   },
   "source": [
    "    <div class=\"alert alert-block alert-success\">\n",
    "<div class=\"col-md-2 col-lg-1 col-xs-6 col-sm-3\"> <img class=\"img-responsive responsive-img\" src=\"https://www.shareicon.net/data/512x512/2016/08/18/813877_snake_512x512.png\" alt=\"...\"></div>\n",
    "<strong>It was wonderful seeing you today! Come to the OH to learn more and chat!</strong>\n",
    "<br> Also, Congrats on completing your SSS4! Do you have any questions or confusion points? Use the cell below to ask any questions, and we will try to address them in the next sessions or during OH.\n",
    "\n",
    "\n",
    "You can be as precise as you want, e.g. 'I did not know why else statement should not be included.'\n",
    "</div>"
   ]
  },
  {
   "cell_type": "markdown",
   "metadata": {
    "collapsed": false
   },
   "source": [
    "Use this cell to leave any comments"
   ]
  },
  {
   "cell_type": "markdown",
   "metadata": {
    "collapsed": false
   },
   "source": [
    "<img class=\"img-responsive responsive-img\" src=\"http://www.relatably.com/m/img/crushed-memes/58911319.jpg\" alt=\"...\">"
   ]
  },
  {
   "cell_type": "code",
   "execution_count": 0,
   "metadata": {
    "colab": {
    },
    "colab_type": "code",
    "collapsed": true,
    "id": "pCekMpN405YI"
   },
   "outputs": [
   ],
   "source": [
    "# Your code here"
   ]
  }
 ],
 "metadata": {
  "colab": {
   "name": "SSS4.ipynb",
   "provenance": [
   ],
   "version": "0.3.2"
  },
  "kernelspec": {
   "display_name": "Python 3 (system-wide)",
   "language": "python",
   "metadata": {
    "cocalc": {
     "description": "Python 3 programming language",
     "priority": 100,
     "url": "https://www.python.org/"
    }
   },
   "name": "python3"
  },
  "language_info": {
   "codemirror_mode": {
    "name": "ipython",
    "version": 3
   },
   "file_extension": ".py",
   "mimetype": "text/x-python",
   "name": "python",
   "nbconvert_exporter": "python",
   "pygments_lexer": "ipython3",
   "version": "3.6.8"
  }
 },
 "nbformat": 4,
 "nbformat_minor": 0
}